{
  "cells": [
    {
      "cell_type": "markdown",
      "id": "65642d56-c596-4f2b-9bb1-90e2c403b899",
      "metadata": {
        "id": "65642d56-c596-4f2b-9bb1-90e2c403b899"
      },
      "source": [
        "<a href=\"https://colab.research.google.com/github/datascience-uniandes/eda-tutorial/blob/master/airbnb/eda.ipynb\" target=\"_parent\"><img src=\"https://colab.research.google.com/assets/colab-badge.svg\" alt=\"Open In Colab\"/></a>"
      ]
    },
    {
      "cell_type": "markdown",
      "id": "5ed0788a-edef-4304-a544-c35aed7bb02c",
      "metadata": {
        "id": "5ed0788a-edef-4304-a544-c35aed7bb02c"
      },
      "source": [
        "# Exploratory Data Analysis (EDA)\n",
        "\n",
        "MINE-4101: Applied Data Science  \n",
        "Univerisdad de los Andes  \n",
        "  \n",
        "**Dataset:** AirBnb Listings - Mexico City, Distrito Federal, Mexico [[dataset](http://insideairbnb.com/get-the-data/) | [dictionary](https://docs.google.com/spreadsheets/d/1iWCNJcSutYqpULSQHlNyGInUvHg2BoUGoNRIGa6Szc4/edit?usp=sharing)]. This dataset comprises information about Airbnb property listings in Mexico City. It includes data points like neighborhood, property type, price per night, number of reviews, review scores, availability, amenities, and more.\n",
        "\n",
        "**Business Context:** Property Investment and Vacation Rental Strategy. Imagine you're a consultant for individuals or firms looking to invest in properties for Airbnb rentals. They want to identify the most lucrative neighborhoods, optimal pricing strategies, and understand the factors that contribute to positive reviews and frequent bookings.\n",
        "\n",
        "Last update: August, 2023"
      ]
    },
    {
      "cell_type": "code",
      "execution_count": 67,
      "id": "fa878881-66df-4d8e-b792-1d65470a8dc5",
      "metadata": {
        "id": "fa878881-66df-4d8e-b792-1d65470a8dc5"
      },
      "outputs": [],
      "source": [
        "import pandas as pd\n",
        "from datetime import datetime\n",
        "import matplotlib.pyplot as plt\n",
        "import seaborn as sns"
      ]
    },
    {
      "cell_type": "code",
      "execution_count": 3,
      "id": "934e72ec-a2c1-45ec-a6fc-a4acb80950d8",
      "metadata": {
        "id": "934e72ec-a2c1-45ec-a6fc-a4acb80950d8"
      },
      "outputs": [],
      "source": [
        "# Pandas configuration for extending the number of columns and rows to show\n",
        "pd.set_option(\"display.max_columns\", None)\n",
        "pd.set_option(\"display.max_rows\", 100)"
      ]
    },
    {
      "cell_type": "markdown",
      "id": "8877beda-27b4-4c17-9d6b-6328db41ac08",
      "metadata": {
        "id": "8877beda-27b4-4c17-9d6b-6328db41ac08"
      },
      "source": [
        "## 1. Loading the data"
      ]
    },
    {
      "cell_type": "code",
      "execution_count": 5,
      "id": "7840e83b-2f32-438f-a8d2-20ef259cf3ac",
      "metadata": {
        "id": "7840e83b-2f32-438f-a8d2-20ef259cf3ac"
      },
      "outputs": [],
      "source": [
        "# Loading the CSV file as dataframe\n",
        "listings_df = pd.read_csv(\"./data/listings.csv.gz\")"
      ]
    },
    {
      "cell_type": "code",
      "execution_count": 6,
      "id": "7fdc067c-1aff-4859-b40e-183cc292dfcd",
      "metadata": {
        "id": "7fdc067c-1aff-4859-b40e-183cc292dfcd",
        "outputId": "bb2bbf74-7d7d-4cf5-bd46-4ec48aeb0be6",
        "colab": {
          "base_uri": "https://localhost:8080/"
        }
      },
      "outputs": [
        {
          "output_type": "execute_result",
          "data": {
            "text/plain": [
              "(43566, 75)"
            ]
          },
          "metadata": {},
          "execution_count": 6
        }
      ],
      "source": [
        "# Showing dataframe dimensions\n",
        "listings_df.shape"
      ]
    },
    {
      "cell_type": "code",
      "execution_count": 7,
      "id": "666da89f-03fa-434d-a366-7fc2e399a731",
      "metadata": {
        "id": "666da89f-03fa-434d-a366-7fc2e399a731",
        "outputId": "c31b0252-920d-4907-b2cf-e138500b3497",
        "colab": {
          "base_uri": "https://localhost:8080/"
        }
      },
      "outputs": [
        {
          "output_type": "execute_result",
          "data": {
            "text/plain": [
              "id                                                int64\n",
              "listing_url                                      object\n",
              "scrape_id                                         int64\n",
              "last_scraped                                     object\n",
              "source                                           object\n",
              "name                                             object\n",
              "description                                      object\n",
              "neighborhood_overview                            object\n",
              "picture_url                                      object\n",
              "host_id                                           int64\n",
              "host_url                                         object\n",
              "host_name                                        object\n",
              "host_since                                       object\n",
              "host_location                                    object\n",
              "host_about                                       object\n",
              "host_response_time                               object\n",
              "host_response_rate                               object\n",
              "host_acceptance_rate                             object\n",
              "host_is_superhost                                object\n",
              "host_thumbnail_url                               object\n",
              "host_picture_url                                 object\n",
              "host_neighbourhood                               object\n",
              "host_listings_count                             float64\n",
              "host_total_listings_count                       float64\n",
              "host_verifications                               object\n",
              "host_has_profile_pic                             object\n",
              "host_identity_verified                           object\n",
              "neighbourhood                                    object\n",
              "neighbourhood_cleansed                           object\n",
              "neighbourhood_group_cleansed                     object\n",
              "latitude                                        float64\n",
              "longitude                                       float64\n",
              "property_type                                    object\n",
              "room_type                                        object\n",
              "accommodates                                      int64\n",
              "bathrooms                                       float64\n",
              "bathrooms_text                                   object\n",
              "bedrooms                                        float64\n",
              "beds                                            float64\n",
              "amenities                                        object\n",
              "price                                            object\n",
              "minimum_nights                                    int64\n",
              "maximum_nights                                    int64\n",
              "minimum_minimum_nights                          float64\n",
              "maximum_minimum_nights                          float64\n",
              "minimum_maximum_nights                          float64\n",
              "maximum_maximum_nights                          float64\n",
              "minimum_nights_avg_ntm                          float64\n",
              "maximum_nights_avg_ntm                          float64\n",
              "calendar_updated                                float64\n",
              "has_availability                                 object\n",
              "availability_30                                   int64\n",
              "availability_60                                   int64\n",
              "availability_90                                   int64\n",
              "availability_365                                  int64\n",
              "calendar_last_scraped                            object\n",
              "number_of_reviews                                 int64\n",
              "number_of_reviews_ltm                             int64\n",
              "number_of_reviews_l30d                            int64\n",
              "first_review                                     object\n",
              "last_review                                      object\n",
              "review_scores_rating                            float64\n",
              "review_scores_accuracy                          float64\n",
              "review_scores_cleanliness                       float64\n",
              "review_scores_checkin                           float64\n",
              "review_scores_communication                     float64\n",
              "review_scores_location                          float64\n",
              "review_scores_value                             float64\n",
              "license                                         float64\n",
              "instant_bookable                                 object\n",
              "calculated_host_listings_count                    int64\n",
              "calculated_host_listings_count_entire_homes       int64\n",
              "calculated_host_listings_count_private_rooms      int64\n",
              "calculated_host_listings_count_shared_rooms       int64\n",
              "reviews_per_month                               float64\n",
              "dtype: object"
            ]
          },
          "metadata": {},
          "execution_count": 7
        }
      ],
      "source": [
        "# Showing column types\n",
        "listings_df.dtypes"
      ]
    },
    {
      "cell_type": "code",
      "execution_count": 11,
      "id": "bd41edc2-6d04-4d10-a77d-2ed0f962b657",
      "metadata": {
        "id": "bd41edc2-6d04-4d10-a77d-2ed0f962b657",
        "outputId": "b12b54d9-d1ee-4907-9991-f84f15fbc336",
        "colab": {
          "base_uri": "https://localhost:8080/",
          "height": 730
        }
      },
      "outputs": [
        {
          "output_type": "execute_result",
          "data": {
            "text/plain": [
              "                       id                                      listing_url  \\\n",
              "39412  825454992973973734  https://www.airbnb.com/rooms/825454992973973734   \n",
              "17298            36076577            https://www.airbnb.com/rooms/36076577   \n",
              "43291  897458869903145577  https://www.airbnb.com/rooms/897458869903145577   \n",
              "6697             10863225            https://www.airbnb.com/rooms/10863225   \n",
              "38663  810774276186071072  https://www.airbnb.com/rooms/810774276186071072   \n",
              "\n",
              "            scrape_id last_scraped           source  \\\n",
              "39412  20230605012709   2023-06-06  previous scrape   \n",
              "17298  20230605012709   2023-06-05  previous scrape   \n",
              "43291  20230605012709   2023-06-05      city scrape   \n",
              "6697   20230605012709   2023-06-05  previous scrape   \n",
              "38663  20230605012709   2023-06-05      city scrape   \n",
              "\n",
              "                                                    name  \\\n",
              "39412  Rental unit in The Bronx · ★4.38 · 1 bedroom ·...   \n",
              "17298  Rental unit in New York · ★4.55 · 1 bedroom · ...   \n",
              "43291  Hotel in New York · ★New · 1 bedroom · 1 bed ·...   \n",
              "6697   Rental unit in New York · 1 bedroom · 1 bed · ...   \n",
              "38663  Home in Queens · ★5.0 · 2 bedrooms · 2 beds · ...   \n",
              "\n",
              "                                             description  \\\n",
              "39412  Newly renovated, sunny, private room located o...   \n",
              "17298  Luxury / Contemporary Private One Bedroom in t...   \n",
              "43291  Amid the hustle and bustle of Midtown Manhatta...   \n",
              "6697   Premier location steps from The Dakota and Str...   \n",
              "38663  Experience the Calming Aura of ZenZen Suite: T...   \n",
              "\n",
              "                                   neighborhood_overview  \\\n",
              "39412  This space is located one exit from Manhattan,...   \n",
              "17298                                                NaN   \n",
              "43291  Times Square - 0.2 miles; <br />Bryant Park - ...   \n",
              "6697                                                 NaN   \n",
              "38663  Discover the Vibrant Neighborhood of St. Alban...   \n",
              "\n",
              "                                             picture_url    host_id  \\\n",
              "39412  https://a0.muscache.com/pictures/miso/Hosting-...   23510890   \n",
              "17298  https://a0.muscache.com/pictures/e1e37bac-8f67...  271391063   \n",
              "43291  https://a0.muscache.com/pictures/prohost-api/H...  496944100   \n",
              "6697   https://a0.muscache.com/pictures/6ea3c5c5-5699...   47898830   \n",
              "38663  https://a0.muscache.com/pictures/8ef455c7-dff1...  372092255   \n",
              "\n",
              "                                          host_url  host_name  host_since  \\\n",
              "39412   https://www.airbnb.com/users/show/23510890        Lin  2014-11-09   \n",
              "17298  https://www.airbnb.com/users/show/271391063      Bryan  2019-06-25   \n",
              "43291  https://www.airbnb.com/users/show/496944100  RoomPicks  2023-01-19   \n",
              "6697    https://www.airbnb.com/users/show/47898830     Dennis  2015-11-01   \n",
              "38663  https://www.airbnb.com/users/show/372092255  Suemattie  2020-10-15   \n",
              "\n",
              "                 host_location  \\\n",
              "39412  New York, United States   \n",
              "17298             New York, NY   \n",
              "43291                      NaN   \n",
              "6697                       NaN   \n",
              "38663             New York, NY   \n",
              "\n",
              "                                              host_about host_response_time  \\\n",
              "39412                                                NaN     within an hour   \n",
              "17298  Currently traveling for work (More than expect...                NaN   \n",
              "43291                                                NaN     within an hour   \n",
              "6697                                                 NaN                NaN   \n",
              "38663                                                NaN     within an hour   \n",
              "\n",
              "      host_response_rate host_acceptance_rate host_is_superhost  \\\n",
              "39412               100%                 100%               NaN   \n",
              "17298                NaN                  NaN                 f   \n",
              "43291                98%                  99%                 f   \n",
              "6697                 NaN                  NaN                 f   \n",
              "38663               100%                 100%                 f   \n",
              "\n",
              "                                      host_thumbnail_url  \\\n",
              "39412  https://a0.muscache.com/im/pictures/user/10a7b...   \n",
              "17298  https://a0.muscache.com/im/pictures/user/47b9e...   \n",
              "43291  https://a0.muscache.com/im/pictures/user/5ba88...   \n",
              "6697   https://a0.muscache.com/im/pictures/user/64c23...   \n",
              "38663  https://a0.muscache.com/im/pictures/user/User-...   \n",
              "\n",
              "                                        host_picture_url  host_neighbourhood  \\\n",
              "39412  https://a0.muscache.com/im/pictures/user/10a7b...          Mott Haven   \n",
              "17298  https://a0.muscache.com/im/pictures/user/47b9e...     Upper East Side   \n",
              "43291  https://a0.muscache.com/im/pictures/user/5ba88...  Downtown Las Vegas   \n",
              "6697   https://a0.muscache.com/im/pictures/user/64c23...     Upper West Side   \n",
              "38663  https://a0.muscache.com/im/pictures/user/User-...             Jamaica   \n",
              "\n",
              "       host_listings_count  host_total_listings_count  host_verifications  \\\n",
              "39412                  8.0                       11.0  ['email', 'phone']   \n",
              "17298                  1.0                        1.0  ['email', 'phone']   \n",
              "43291               2111.0                     2434.0  ['email', 'phone']   \n",
              "6697                   1.0                        1.0  ['email', 'phone']   \n",
              "38663                  1.0                        1.0           ['phone']   \n",
              "\n",
              "      host_has_profile_pic host_identity_verified  \\\n",
              "39412                    t                      t   \n",
              "17298                    t                      t   \n",
              "43291                    t                      t   \n",
              "6697                     t                      f   \n",
              "38663                    t                      t   \n",
              "\n",
              "                            neighbourhood neighbourhood_cleansed  \\\n",
              "39412  The Bronx, New York, United States            Port Morris   \n",
              "17298                                 NaN        Upper East Side   \n",
              "43291             New York, United States                Midtown   \n",
              "6697                                  NaN        Upper West Side   \n",
              "38663     Queens, New York, United States    Springfield Gardens   \n",
              "\n",
              "      neighbourhood_group_cleansed   latitude  longitude  \\\n",
              "39412                        Bronx  40.809878 -73.930404   \n",
              "17298                    Manhattan  40.768840 -73.957200   \n",
              "43291                    Manhattan  40.757040 -73.981110   \n",
              "6697                     Manhattan  40.777650 -73.977030   \n",
              "38663                       Queens  40.688331 -73.754382   \n",
              "\n",
              "                     property_type        room_type  accommodates  bathrooms  \\\n",
              "39412  Private room in rental unit     Private room             2        NaN   \n",
              "17298           Entire rental unit  Entire home/apt             3        NaN   \n",
              "43291                Room in hotel     Private room             2        NaN   \n",
              "6697            Entire rental unit  Entire home/apt             4        NaN   \n",
              "38663                  Entire home  Entire home/apt             4        NaN   \n",
              "\n",
              "      bathrooms_text  bedrooms  beds  \\\n",
              "39412  1 shared bath       NaN   1.0   \n",
              "17298         1 bath       1.0   1.0   \n",
              "43291         1 bath       1.0   1.0   \n",
              "6697          1 bath       1.0   1.0   \n",
              "38663         1 bath       2.0   2.0   \n",
              "\n",
              "                                               amenities    price  \\\n",
              "39412  [\"Dedicated workspace\", \"Mosquito net\", \"Lock ...   $67.00   \n",
              "17298  [\"First aid kit\", \"Air conditioning\", \"Hangers...  $199.00   \n",
              "43291  [\"Dedicated workspace\", \"TV with standard cabl...  $569.00   \n",
              "6697   [\"Air conditioning\", \"Hangers\", \"Indoor firepl...  $199.00   \n",
              "38663  [\"Children\\u2019s dinnerware\", \"Clothing stora...  $175.00   \n",
              "\n",
              "       minimum_nights  maximum_nights  minimum_minimum_nights  \\\n",
              "39412               1             365                     1.0   \n",
              "17298              30            1125                    30.0   \n",
              "43291               1             365                     1.0   \n",
              "6697               30            1125                    30.0   \n",
              "38663               1              60                     1.0   \n",
              "\n",
              "       maximum_minimum_nights  minimum_maximum_nights  maximum_maximum_nights  \\\n",
              "39412                     1.0                  1125.0                  1125.0   \n",
              "17298                    30.0                  1125.0                  1125.0   \n",
              "43291                     3.0                     1.0                    28.0   \n",
              "6697                     30.0                  1125.0                  1125.0   \n",
              "38663                     1.0                  1125.0                  1125.0   \n",
              "\n",
              "       minimum_nights_avg_ntm  maximum_nights_avg_ntm  calendar_updated  \\\n",
              "39412                     1.0                  1125.0               NaN   \n",
              "17298                    30.0                  1125.0               NaN   \n",
              "43291                     1.0                    27.9               NaN   \n",
              "6697                     30.0                  1125.0               NaN   \n",
              "38663                     1.0                  1125.0               NaN   \n",
              "\n",
              "      has_availability  availability_30  availability_60  availability_90  \\\n",
              "39412                t                0                0                0   \n",
              "17298                f                0                0                0   \n",
              "43291                t               12               12               12   \n",
              "6697                 f                0                0                0   \n",
              "38663                t               24               54               84   \n",
              "\n",
              "       availability_365 calendar_last_scraped  number_of_reviews  \\\n",
              "39412                 0            2023-06-06                  8   \n",
              "17298                 0            2023-06-05                 11   \n",
              "43291                16            2023-06-05                  0   \n",
              "6697                  0            2023-06-05                  0   \n",
              "38663                84            2023-06-05                 13   \n",
              "\n",
              "       number_of_reviews_ltm  number_of_reviews_l30d first_review last_review  \\\n",
              "39412                      8                       0   2023-03-05  2023-05-01   \n",
              "17298                      0                       0   2019-06-30  2019-12-23   \n",
              "43291                      0                       0          NaN         NaN   \n",
              "6697                       0                       0          NaN         NaN   \n",
              "38663                     13                       6   2023-02-18  2023-05-29   \n",
              "\n",
              "       review_scores_rating  review_scores_accuracy  \\\n",
              "39412                  4.38                    4.75   \n",
              "17298                  4.55                    4.45   \n",
              "43291                   NaN                     NaN   \n",
              "6697                    NaN                     NaN   \n",
              "38663                  5.00                    5.00   \n",
              "\n",
              "       review_scores_cleanliness  review_scores_checkin  \\\n",
              "39412                       4.25                   4.88   \n",
              "17298                       4.82                   4.91   \n",
              "43291                        NaN                    NaN   \n",
              "6697                         NaN                    NaN   \n",
              "38663                       5.00                   5.00   \n",
              "\n",
              "       review_scores_communication  review_scores_location  \\\n",
              "39412                         4.75                    4.25   \n",
              "17298                         4.64                    5.00   \n",
              "43291                          NaN                     NaN   \n",
              "6697                           NaN                     NaN   \n",
              "38663                         5.00                    4.85   \n",
              "\n",
              "       review_scores_value  license instant_bookable  \\\n",
              "39412                 4.50      NaN                t   \n",
              "17298                 4.55      NaN                f   \n",
              "43291                  NaN      NaN                t   \n",
              "6697                   NaN      NaN                f   \n",
              "38663                 4.92      NaN                t   \n",
              "\n",
              "       calculated_host_listings_count  \\\n",
              "39412                               6   \n",
              "17298                               1   \n",
              "43291                             342   \n",
              "6697                                1   \n",
              "38663                               1   \n",
              "\n",
              "       calculated_host_listings_count_entire_homes  \\\n",
              "39412                                            3   \n",
              "17298                                            1   \n",
              "43291                                          247   \n",
              "6697                                             1   \n",
              "38663                                            1   \n",
              "\n",
              "       calculated_host_listings_count_private_rooms  \\\n",
              "39412                                             3   \n",
              "17298                                             0   \n",
              "43291                                            95   \n",
              "6697                                              0   \n",
              "38663                                             0   \n",
              "\n",
              "       calculated_host_listings_count_shared_rooms  reviews_per_month  \n",
              "39412                                            0               2.55  \n",
              "17298                                            0               0.23  \n",
              "43291                                            0                NaN  \n",
              "6697                                             0                NaN  \n",
              "38663                                            0               3.61  "
            ],
            "text/html": [
              "\n",
              "  <div id=\"df-36f533ac-d06e-4790-a02e-33c7dff30267\" class=\"colab-df-container\">\n",
              "    <div>\n",
              "<style scoped>\n",
              "    .dataframe tbody tr th:only-of-type {\n",
              "        vertical-align: middle;\n",
              "    }\n",
              "\n",
              "    .dataframe tbody tr th {\n",
              "        vertical-align: top;\n",
              "    }\n",
              "\n",
              "    .dataframe thead th {\n",
              "        text-align: right;\n",
              "    }\n",
              "</style>\n",
              "<table border=\"1\" class=\"dataframe\">\n",
              "  <thead>\n",
              "    <tr style=\"text-align: right;\">\n",
              "      <th></th>\n",
              "      <th>id</th>\n",
              "      <th>listing_url</th>\n",
              "      <th>scrape_id</th>\n",
              "      <th>last_scraped</th>\n",
              "      <th>source</th>\n",
              "      <th>name</th>\n",
              "      <th>description</th>\n",
              "      <th>neighborhood_overview</th>\n",
              "      <th>picture_url</th>\n",
              "      <th>host_id</th>\n",
              "      <th>host_url</th>\n",
              "      <th>host_name</th>\n",
              "      <th>host_since</th>\n",
              "      <th>host_location</th>\n",
              "      <th>host_about</th>\n",
              "      <th>host_response_time</th>\n",
              "      <th>host_response_rate</th>\n",
              "      <th>host_acceptance_rate</th>\n",
              "      <th>host_is_superhost</th>\n",
              "      <th>host_thumbnail_url</th>\n",
              "      <th>host_picture_url</th>\n",
              "      <th>host_neighbourhood</th>\n",
              "      <th>host_listings_count</th>\n",
              "      <th>host_total_listings_count</th>\n",
              "      <th>host_verifications</th>\n",
              "      <th>host_has_profile_pic</th>\n",
              "      <th>host_identity_verified</th>\n",
              "      <th>neighbourhood</th>\n",
              "      <th>neighbourhood_cleansed</th>\n",
              "      <th>neighbourhood_group_cleansed</th>\n",
              "      <th>latitude</th>\n",
              "      <th>longitude</th>\n",
              "      <th>property_type</th>\n",
              "      <th>room_type</th>\n",
              "      <th>accommodates</th>\n",
              "      <th>bathrooms</th>\n",
              "      <th>bathrooms_text</th>\n",
              "      <th>bedrooms</th>\n",
              "      <th>beds</th>\n",
              "      <th>amenities</th>\n",
              "      <th>price</th>\n",
              "      <th>minimum_nights</th>\n",
              "      <th>maximum_nights</th>\n",
              "      <th>minimum_minimum_nights</th>\n",
              "      <th>maximum_minimum_nights</th>\n",
              "      <th>minimum_maximum_nights</th>\n",
              "      <th>maximum_maximum_nights</th>\n",
              "      <th>minimum_nights_avg_ntm</th>\n",
              "      <th>maximum_nights_avg_ntm</th>\n",
              "      <th>calendar_updated</th>\n",
              "      <th>has_availability</th>\n",
              "      <th>availability_30</th>\n",
              "      <th>availability_60</th>\n",
              "      <th>availability_90</th>\n",
              "      <th>availability_365</th>\n",
              "      <th>calendar_last_scraped</th>\n",
              "      <th>number_of_reviews</th>\n",
              "      <th>number_of_reviews_ltm</th>\n",
              "      <th>number_of_reviews_l30d</th>\n",
              "      <th>first_review</th>\n",
              "      <th>last_review</th>\n",
              "      <th>review_scores_rating</th>\n",
              "      <th>review_scores_accuracy</th>\n",
              "      <th>review_scores_cleanliness</th>\n",
              "      <th>review_scores_checkin</th>\n",
              "      <th>review_scores_communication</th>\n",
              "      <th>review_scores_location</th>\n",
              "      <th>review_scores_value</th>\n",
              "      <th>license</th>\n",
              "      <th>instant_bookable</th>\n",
              "      <th>calculated_host_listings_count</th>\n",
              "      <th>calculated_host_listings_count_entire_homes</th>\n",
              "      <th>calculated_host_listings_count_private_rooms</th>\n",
              "      <th>calculated_host_listings_count_shared_rooms</th>\n",
              "      <th>reviews_per_month</th>\n",
              "    </tr>\n",
              "  </thead>\n",
              "  <tbody>\n",
              "    <tr>\n",
              "      <th>39412</th>\n",
              "      <td>825454992973973734</td>\n",
              "      <td>https://www.airbnb.com/rooms/825454992973973734</td>\n",
              "      <td>20230605012709</td>\n",
              "      <td>2023-06-06</td>\n",
              "      <td>previous scrape</td>\n",
              "      <td>Rental unit in The Bronx · ★4.38 · 1 bedroom ·...</td>\n",
              "      <td>Newly renovated, sunny, private room located o...</td>\n",
              "      <td>This space is located one exit from Manhattan,...</td>\n",
              "      <td>https://a0.muscache.com/pictures/miso/Hosting-...</td>\n",
              "      <td>23510890</td>\n",
              "      <td>https://www.airbnb.com/users/show/23510890</td>\n",
              "      <td>Lin</td>\n",
              "      <td>2014-11-09</td>\n",
              "      <td>New York, United States</td>\n",
              "      <td>NaN</td>\n",
              "      <td>within an hour</td>\n",
              "      <td>100%</td>\n",
              "      <td>100%</td>\n",
              "      <td>NaN</td>\n",
              "      <td>https://a0.muscache.com/im/pictures/user/10a7b...</td>\n",
              "      <td>https://a0.muscache.com/im/pictures/user/10a7b...</td>\n",
              "      <td>Mott Haven</td>\n",
              "      <td>8.0</td>\n",
              "      <td>11.0</td>\n",
              "      <td>['email', 'phone']</td>\n",
              "      <td>t</td>\n",
              "      <td>t</td>\n",
              "      <td>The Bronx, New York, United States</td>\n",
              "      <td>Port Morris</td>\n",
              "      <td>Bronx</td>\n",
              "      <td>40.809878</td>\n",
              "      <td>-73.930404</td>\n",
              "      <td>Private room in rental unit</td>\n",
              "      <td>Private room</td>\n",
              "      <td>2</td>\n",
              "      <td>NaN</td>\n",
              "      <td>1 shared bath</td>\n",
              "      <td>NaN</td>\n",
              "      <td>1.0</td>\n",
              "      <td>[\"Dedicated workspace\", \"Mosquito net\", \"Lock ...</td>\n",
              "      <td>$67.00</td>\n",
              "      <td>1</td>\n",
              "      <td>365</td>\n",
              "      <td>1.0</td>\n",
              "      <td>1.0</td>\n",
              "      <td>1125.0</td>\n",
              "      <td>1125.0</td>\n",
              "      <td>1.0</td>\n",
              "      <td>1125.0</td>\n",
              "      <td>NaN</td>\n",
              "      <td>t</td>\n",
              "      <td>0</td>\n",
              "      <td>0</td>\n",
              "      <td>0</td>\n",
              "      <td>0</td>\n",
              "      <td>2023-06-06</td>\n",
              "      <td>8</td>\n",
              "      <td>8</td>\n",
              "      <td>0</td>\n",
              "      <td>2023-03-05</td>\n",
              "      <td>2023-05-01</td>\n",
              "      <td>4.38</td>\n",
              "      <td>4.75</td>\n",
              "      <td>4.25</td>\n",
              "      <td>4.88</td>\n",
              "      <td>4.75</td>\n",
              "      <td>4.25</td>\n",
              "      <td>4.50</td>\n",
              "      <td>NaN</td>\n",
              "      <td>t</td>\n",
              "      <td>6</td>\n",
              "      <td>3</td>\n",
              "      <td>3</td>\n",
              "      <td>0</td>\n",
              "      <td>2.55</td>\n",
              "    </tr>\n",
              "    <tr>\n",
              "      <th>17298</th>\n",
              "      <td>36076577</td>\n",
              "      <td>https://www.airbnb.com/rooms/36076577</td>\n",
              "      <td>20230605012709</td>\n",
              "      <td>2023-06-05</td>\n",
              "      <td>previous scrape</td>\n",
              "      <td>Rental unit in New York · ★4.55 · 1 bedroom · ...</td>\n",
              "      <td>Luxury / Contemporary Private One Bedroom in t...</td>\n",
              "      <td>NaN</td>\n",
              "      <td>https://a0.muscache.com/pictures/e1e37bac-8f67...</td>\n",
              "      <td>271391063</td>\n",
              "      <td>https://www.airbnb.com/users/show/271391063</td>\n",
              "      <td>Bryan</td>\n",
              "      <td>2019-06-25</td>\n",
              "      <td>New York, NY</td>\n",
              "      <td>Currently traveling for work (More than expect...</td>\n",
              "      <td>NaN</td>\n",
              "      <td>NaN</td>\n",
              "      <td>NaN</td>\n",
              "      <td>f</td>\n",
              "      <td>https://a0.muscache.com/im/pictures/user/47b9e...</td>\n",
              "      <td>https://a0.muscache.com/im/pictures/user/47b9e...</td>\n",
              "      <td>Upper East Side</td>\n",
              "      <td>1.0</td>\n",
              "      <td>1.0</td>\n",
              "      <td>['email', 'phone']</td>\n",
              "      <td>t</td>\n",
              "      <td>t</td>\n",
              "      <td>NaN</td>\n",
              "      <td>Upper East Side</td>\n",
              "      <td>Manhattan</td>\n",
              "      <td>40.768840</td>\n",
              "      <td>-73.957200</td>\n",
              "      <td>Entire rental unit</td>\n",
              "      <td>Entire home/apt</td>\n",
              "      <td>3</td>\n",
              "      <td>NaN</td>\n",
              "      <td>1 bath</td>\n",
              "      <td>1.0</td>\n",
              "      <td>1.0</td>\n",
              "      <td>[\"First aid kit\", \"Air conditioning\", \"Hangers...</td>\n",
              "      <td>$199.00</td>\n",
              "      <td>30</td>\n",
              "      <td>1125</td>\n",
              "      <td>30.0</td>\n",
              "      <td>30.0</td>\n",
              "      <td>1125.0</td>\n",
              "      <td>1125.0</td>\n",
              "      <td>30.0</td>\n",
              "      <td>1125.0</td>\n",
              "      <td>NaN</td>\n",
              "      <td>f</td>\n",
              "      <td>0</td>\n",
              "      <td>0</td>\n",
              "      <td>0</td>\n",
              "      <td>0</td>\n",
              "      <td>2023-06-05</td>\n",
              "      <td>11</td>\n",
              "      <td>0</td>\n",
              "      <td>0</td>\n",
              "      <td>2019-06-30</td>\n",
              "      <td>2019-12-23</td>\n",
              "      <td>4.55</td>\n",
              "      <td>4.45</td>\n",
              "      <td>4.82</td>\n",
              "      <td>4.91</td>\n",
              "      <td>4.64</td>\n",
              "      <td>5.00</td>\n",
              "      <td>4.55</td>\n",
              "      <td>NaN</td>\n",
              "      <td>f</td>\n",
              "      <td>1</td>\n",
              "      <td>1</td>\n",
              "      <td>0</td>\n",
              "      <td>0</td>\n",
              "      <td>0.23</td>\n",
              "    </tr>\n",
              "    <tr>\n",
              "      <th>43291</th>\n",
              "      <td>897458869903145577</td>\n",
              "      <td>https://www.airbnb.com/rooms/897458869903145577</td>\n",
              "      <td>20230605012709</td>\n",
              "      <td>2023-06-05</td>\n",
              "      <td>city scrape</td>\n",
              "      <td>Hotel in New York · ★New · 1 bedroom · 1 bed ·...</td>\n",
              "      <td>Amid the hustle and bustle of Midtown Manhatta...</td>\n",
              "      <td>Times Square - 0.2 miles; &lt;br /&gt;Bryant Park - ...</td>\n",
              "      <td>https://a0.muscache.com/pictures/prohost-api/H...</td>\n",
              "      <td>496944100</td>\n",
              "      <td>https://www.airbnb.com/users/show/496944100</td>\n",
              "      <td>RoomPicks</td>\n",
              "      <td>2023-01-19</td>\n",
              "      <td>NaN</td>\n",
              "      <td>NaN</td>\n",
              "      <td>within an hour</td>\n",
              "      <td>98%</td>\n",
              "      <td>99%</td>\n",
              "      <td>f</td>\n",
              "      <td>https://a0.muscache.com/im/pictures/user/5ba88...</td>\n",
              "      <td>https://a0.muscache.com/im/pictures/user/5ba88...</td>\n",
              "      <td>Downtown Las Vegas</td>\n",
              "      <td>2111.0</td>\n",
              "      <td>2434.0</td>\n",
              "      <td>['email', 'phone']</td>\n",
              "      <td>t</td>\n",
              "      <td>t</td>\n",
              "      <td>New York, United States</td>\n",
              "      <td>Midtown</td>\n",
              "      <td>Manhattan</td>\n",
              "      <td>40.757040</td>\n",
              "      <td>-73.981110</td>\n",
              "      <td>Room in hotel</td>\n",
              "      <td>Private room</td>\n",
              "      <td>2</td>\n",
              "      <td>NaN</td>\n",
              "      <td>1 bath</td>\n",
              "      <td>1.0</td>\n",
              "      <td>1.0</td>\n",
              "      <td>[\"Dedicated workspace\", \"TV with standard cabl...</td>\n",
              "      <td>$569.00</td>\n",
              "      <td>1</td>\n",
              "      <td>365</td>\n",
              "      <td>1.0</td>\n",
              "      <td>3.0</td>\n",
              "      <td>1.0</td>\n",
              "      <td>28.0</td>\n",
              "      <td>1.0</td>\n",
              "      <td>27.9</td>\n",
              "      <td>NaN</td>\n",
              "      <td>t</td>\n",
              "      <td>12</td>\n",
              "      <td>12</td>\n",
              "      <td>12</td>\n",
              "      <td>16</td>\n",
              "      <td>2023-06-05</td>\n",
              "      <td>0</td>\n",
              "      <td>0</td>\n",
              "      <td>0</td>\n",
              "      <td>NaN</td>\n",
              "      <td>NaN</td>\n",
              "      <td>NaN</td>\n",
              "      <td>NaN</td>\n",
              "      <td>NaN</td>\n",
              "      <td>NaN</td>\n",
              "      <td>NaN</td>\n",
              "      <td>NaN</td>\n",
              "      <td>NaN</td>\n",
              "      <td>NaN</td>\n",
              "      <td>t</td>\n",
              "      <td>342</td>\n",
              "      <td>247</td>\n",
              "      <td>95</td>\n",
              "      <td>0</td>\n",
              "      <td>NaN</td>\n",
              "    </tr>\n",
              "    <tr>\n",
              "      <th>6697</th>\n",
              "      <td>10863225</td>\n",
              "      <td>https://www.airbnb.com/rooms/10863225</td>\n",
              "      <td>20230605012709</td>\n",
              "      <td>2023-06-05</td>\n",
              "      <td>previous scrape</td>\n",
              "      <td>Rental unit in New York · 1 bedroom · 1 bed · ...</td>\n",
              "      <td>Premier location steps from The Dakota and Str...</td>\n",
              "      <td>NaN</td>\n",
              "      <td>https://a0.muscache.com/pictures/6ea3c5c5-5699...</td>\n",
              "      <td>47898830</td>\n",
              "      <td>https://www.airbnb.com/users/show/47898830</td>\n",
              "      <td>Dennis</td>\n",
              "      <td>2015-11-01</td>\n",
              "      <td>NaN</td>\n",
              "      <td>NaN</td>\n",
              "      <td>NaN</td>\n",
              "      <td>NaN</td>\n",
              "      <td>NaN</td>\n",
              "      <td>f</td>\n",
              "      <td>https://a0.muscache.com/im/pictures/user/64c23...</td>\n",
              "      <td>https://a0.muscache.com/im/pictures/user/64c23...</td>\n",
              "      <td>Upper West Side</td>\n",
              "      <td>1.0</td>\n",
              "      <td>1.0</td>\n",
              "      <td>['email', 'phone']</td>\n",
              "      <td>t</td>\n",
              "      <td>f</td>\n",
              "      <td>NaN</td>\n",
              "      <td>Upper West Side</td>\n",
              "      <td>Manhattan</td>\n",
              "      <td>40.777650</td>\n",
              "      <td>-73.977030</td>\n",
              "      <td>Entire rental unit</td>\n",
              "      <td>Entire home/apt</td>\n",
              "      <td>4</td>\n",
              "      <td>NaN</td>\n",
              "      <td>1 bath</td>\n",
              "      <td>1.0</td>\n",
              "      <td>1.0</td>\n",
              "      <td>[\"Air conditioning\", \"Hangers\", \"Indoor firepl...</td>\n",
              "      <td>$199.00</td>\n",
              "      <td>30</td>\n",
              "      <td>1125</td>\n",
              "      <td>30.0</td>\n",
              "      <td>30.0</td>\n",
              "      <td>1125.0</td>\n",
              "      <td>1125.0</td>\n",
              "      <td>30.0</td>\n",
              "      <td>1125.0</td>\n",
              "      <td>NaN</td>\n",
              "      <td>f</td>\n",
              "      <td>0</td>\n",
              "      <td>0</td>\n",
              "      <td>0</td>\n",
              "      <td>0</td>\n",
              "      <td>2023-06-05</td>\n",
              "      <td>0</td>\n",
              "      <td>0</td>\n",
              "      <td>0</td>\n",
              "      <td>NaN</td>\n",
              "      <td>NaN</td>\n",
              "      <td>NaN</td>\n",
              "      <td>NaN</td>\n",
              "      <td>NaN</td>\n",
              "      <td>NaN</td>\n",
              "      <td>NaN</td>\n",
              "      <td>NaN</td>\n",
              "      <td>NaN</td>\n",
              "      <td>NaN</td>\n",
              "      <td>f</td>\n",
              "      <td>1</td>\n",
              "      <td>1</td>\n",
              "      <td>0</td>\n",
              "      <td>0</td>\n",
              "      <td>NaN</td>\n",
              "    </tr>\n",
              "    <tr>\n",
              "      <th>38663</th>\n",
              "      <td>810774276186071072</td>\n",
              "      <td>https://www.airbnb.com/rooms/810774276186071072</td>\n",
              "      <td>20230605012709</td>\n",
              "      <td>2023-06-05</td>\n",
              "      <td>city scrape</td>\n",
              "      <td>Home in Queens · ★5.0 · 2 bedrooms · 2 beds · ...</td>\n",
              "      <td>Experience the Calming Aura of ZenZen Suite: T...</td>\n",
              "      <td>Discover the Vibrant Neighborhood of St. Alban...</td>\n",
              "      <td>https://a0.muscache.com/pictures/8ef455c7-dff1...</td>\n",
              "      <td>372092255</td>\n",
              "      <td>https://www.airbnb.com/users/show/372092255</td>\n",
              "      <td>Suemattie</td>\n",
              "      <td>2020-10-15</td>\n",
              "      <td>New York, NY</td>\n",
              "      <td>NaN</td>\n",
              "      <td>within an hour</td>\n",
              "      <td>100%</td>\n",
              "      <td>100%</td>\n",
              "      <td>f</td>\n",
              "      <td>https://a0.muscache.com/im/pictures/user/User-...</td>\n",
              "      <td>https://a0.muscache.com/im/pictures/user/User-...</td>\n",
              "      <td>Jamaica</td>\n",
              "      <td>1.0</td>\n",
              "      <td>1.0</td>\n",
              "      <td>['phone']</td>\n",
              "      <td>t</td>\n",
              "      <td>t</td>\n",
              "      <td>Queens, New York, United States</td>\n",
              "      <td>Springfield Gardens</td>\n",
              "      <td>Queens</td>\n",
              "      <td>40.688331</td>\n",
              "      <td>-73.754382</td>\n",
              "      <td>Entire home</td>\n",
              "      <td>Entire home/apt</td>\n",
              "      <td>4</td>\n",
              "      <td>NaN</td>\n",
              "      <td>1 bath</td>\n",
              "      <td>2.0</td>\n",
              "      <td>2.0</td>\n",
              "      <td>[\"Children\\u2019s dinnerware\", \"Clothing stora...</td>\n",
              "      <td>$175.00</td>\n",
              "      <td>1</td>\n",
              "      <td>60</td>\n",
              "      <td>1.0</td>\n",
              "      <td>1.0</td>\n",
              "      <td>1125.0</td>\n",
              "      <td>1125.0</td>\n",
              "      <td>1.0</td>\n",
              "      <td>1125.0</td>\n",
              "      <td>NaN</td>\n",
              "      <td>t</td>\n",
              "      <td>24</td>\n",
              "      <td>54</td>\n",
              "      <td>84</td>\n",
              "      <td>84</td>\n",
              "      <td>2023-06-05</td>\n",
              "      <td>13</td>\n",
              "      <td>13</td>\n",
              "      <td>6</td>\n",
              "      <td>2023-02-18</td>\n",
              "      <td>2023-05-29</td>\n",
              "      <td>5.00</td>\n",
              "      <td>5.00</td>\n",
              "      <td>5.00</td>\n",
              "      <td>5.00</td>\n",
              "      <td>5.00</td>\n",
              "      <td>4.85</td>\n",
              "      <td>4.92</td>\n",
              "      <td>NaN</td>\n",
              "      <td>t</td>\n",
              "      <td>1</td>\n",
              "      <td>1</td>\n",
              "      <td>0</td>\n",
              "      <td>0</td>\n",
              "      <td>3.61</td>\n",
              "    </tr>\n",
              "  </tbody>\n",
              "</table>\n",
              "</div>\n",
              "    <div class=\"colab-df-buttons\">\n",
              "\n",
              "  <div class=\"colab-df-container\">\n",
              "    <button class=\"colab-df-convert\" onclick=\"convertToInteractive('df-36f533ac-d06e-4790-a02e-33c7dff30267')\"\n",
              "            title=\"Convert this dataframe to an interactive table.\"\n",
              "            style=\"display:none;\">\n",
              "\n",
              "  <svg xmlns=\"http://www.w3.org/2000/svg\" height=\"24px\" viewBox=\"0 -960 960 960\">\n",
              "    <path d=\"M120-120v-720h720v720H120Zm60-500h600v-160H180v160Zm220 220h160v-160H400v160Zm0 220h160v-160H400v160ZM180-400h160v-160H180v160Zm440 0h160v-160H620v160ZM180-180h160v-160H180v160Zm440 0h160v-160H620v160Z\"/>\n",
              "  </svg>\n",
              "    </button>\n",
              "\n",
              "  <style>\n",
              "    .colab-df-container {\n",
              "      display:flex;\n",
              "      gap: 12px;\n",
              "    }\n",
              "\n",
              "    .colab-df-convert {\n",
              "      background-color: #E8F0FE;\n",
              "      border: none;\n",
              "      border-radius: 50%;\n",
              "      cursor: pointer;\n",
              "      display: none;\n",
              "      fill: #1967D2;\n",
              "      height: 32px;\n",
              "      padding: 0 0 0 0;\n",
              "      width: 32px;\n",
              "    }\n",
              "\n",
              "    .colab-df-convert:hover {\n",
              "      background-color: #E2EBFA;\n",
              "      box-shadow: 0px 1px 2px rgba(60, 64, 67, 0.3), 0px 1px 3px 1px rgba(60, 64, 67, 0.15);\n",
              "      fill: #174EA6;\n",
              "    }\n",
              "\n",
              "    .colab-df-buttons div {\n",
              "      margin-bottom: 4px;\n",
              "    }\n",
              "\n",
              "    [theme=dark] .colab-df-convert {\n",
              "      background-color: #3B4455;\n",
              "      fill: #D2E3FC;\n",
              "    }\n",
              "\n",
              "    [theme=dark] .colab-df-convert:hover {\n",
              "      background-color: #434B5C;\n",
              "      box-shadow: 0px 1px 3px 1px rgba(0, 0, 0, 0.15);\n",
              "      filter: drop-shadow(0px 1px 2px rgba(0, 0, 0, 0.3));\n",
              "      fill: #FFFFFF;\n",
              "    }\n",
              "  </style>\n",
              "\n",
              "    <script>\n",
              "      const buttonEl =\n",
              "        document.querySelector('#df-36f533ac-d06e-4790-a02e-33c7dff30267 button.colab-df-convert');\n",
              "      buttonEl.style.display =\n",
              "        google.colab.kernel.accessAllowed ? 'block' : 'none';\n",
              "\n",
              "      async function convertToInteractive(key) {\n",
              "        const element = document.querySelector('#df-36f533ac-d06e-4790-a02e-33c7dff30267');\n",
              "        const dataTable =\n",
              "          await google.colab.kernel.invokeFunction('convertToInteractive',\n",
              "                                                    [key], {});\n",
              "        if (!dataTable) return;\n",
              "\n",
              "        const docLinkHtml = 'Like what you see? Visit the ' +\n",
              "          '<a target=\"_blank\" href=https://colab.research.google.com/notebooks/data_table.ipynb>data table notebook</a>'\n",
              "          + ' to learn more about interactive tables.';\n",
              "        element.innerHTML = '';\n",
              "        dataTable['output_type'] = 'display_data';\n",
              "        await google.colab.output.renderOutput(dataTable, element);\n",
              "        const docLink = document.createElement('div');\n",
              "        docLink.innerHTML = docLinkHtml;\n",
              "        element.appendChild(docLink);\n",
              "      }\n",
              "    </script>\n",
              "  </div>\n",
              "\n",
              "\n",
              "<div id=\"df-d14c1fc4-f4a9-425e-9257-62c04e91e066\">\n",
              "  <button class=\"colab-df-quickchart\" onclick=\"quickchart('df-d14c1fc4-f4a9-425e-9257-62c04e91e066')\"\n",
              "            title=\"Suggest charts.\"\n",
              "            style=\"display:none;\">\n",
              "\n",
              "<svg xmlns=\"http://www.w3.org/2000/svg\" height=\"24px\"viewBox=\"0 0 24 24\"\n",
              "     width=\"24px\">\n",
              "    <g>\n",
              "        <path d=\"M19 3H5c-1.1 0-2 .9-2 2v14c0 1.1.9 2 2 2h14c1.1 0 2-.9 2-2V5c0-1.1-.9-2-2-2zM9 17H7v-7h2v7zm4 0h-2V7h2v10zm4 0h-2v-4h2v4z\"/>\n",
              "    </g>\n",
              "</svg>\n",
              "  </button>\n",
              "\n",
              "<style>\n",
              "  .colab-df-quickchart {\n",
              "    background-color: #E8F0FE;\n",
              "    border: none;\n",
              "    border-radius: 50%;\n",
              "    cursor: pointer;\n",
              "    display: none;\n",
              "    fill: #1967D2;\n",
              "    height: 32px;\n",
              "    padding: 0 0 0 0;\n",
              "    width: 32px;\n",
              "  }\n",
              "\n",
              "  .colab-df-quickchart:hover {\n",
              "    background-color: #E2EBFA;\n",
              "    box-shadow: 0px 1px 2px rgba(60, 64, 67, 0.3), 0px 1px 3px 1px rgba(60, 64, 67, 0.15);\n",
              "    fill: #174EA6;\n",
              "  }\n",
              "\n",
              "  [theme=dark] .colab-df-quickchart {\n",
              "    background-color: #3B4455;\n",
              "    fill: #D2E3FC;\n",
              "  }\n",
              "\n",
              "  [theme=dark] .colab-df-quickchart:hover {\n",
              "    background-color: #434B5C;\n",
              "    box-shadow: 0px 1px 3px 1px rgba(0, 0, 0, 0.15);\n",
              "    filter: drop-shadow(0px 1px 2px rgba(0, 0, 0, 0.3));\n",
              "    fill: #FFFFFF;\n",
              "  }\n",
              "</style>\n",
              "\n",
              "  <script>\n",
              "    async function quickchart(key) {\n",
              "      const charts = await google.colab.kernel.invokeFunction(\n",
              "          'suggestCharts', [key], {});\n",
              "    }\n",
              "    (() => {\n",
              "      let quickchartButtonEl =\n",
              "        document.querySelector('#df-d14c1fc4-f4a9-425e-9257-62c04e91e066 button');\n",
              "      quickchartButtonEl.style.display =\n",
              "        google.colab.kernel.accessAllowed ? 'block' : 'none';\n",
              "    })();\n",
              "  </script>\n",
              "</div>\n",
              "    </div>\n",
              "  </div>\n"
            ]
          },
          "metadata": {},
          "execution_count": 11
        }
      ],
      "source": [
        "#fifa_df.head() # Showing the first rows\n",
        "#fifa_df.tail() # Showing last first rows\n",
        "listings_df.sample(5) # Showing a sample of n rows"
      ]
    },
    {
      "cell_type": "markdown",
      "id": "8a48a9a6-7266-472f-be40-c820e199a029",
      "metadata": {
        "id": "8a48a9a6-7266-472f-be40-c820e199a029"
      },
      "source": [
        "## 2. Univariate analysis"
      ]
    },
    {
      "cell_type": "markdown",
      "source": [
        "Analysis univariate for price"
      ],
      "metadata": {
        "id": "bDGgSm0RzDRW"
      },
      "id": "bDGgSm0RzDRW"
    },
    {
      "cell_type": "code",
      "source": [
        "# We need to transform the price attribute from object to float\n",
        "listings_df[\"price_float\"] = listings_df[\"price\"].str.replace(\"[$,]\", \"\", regex=True).astype(float)"
      ],
      "metadata": {
        "id": "I0U7nB0WtU2u"
      },
      "id": "I0U7nB0WtU2u",
      "execution_count": 21,
      "outputs": []
    },
    {
      "cell_type": "code",
      "execution_count": 23,
      "id": "15a2aee6-4720-477f-96b5-da43cc930db5",
      "metadata": {
        "id": "15a2aee6-4720-477f-96b5-da43cc930db5",
        "outputId": "37f34084-8ddf-4549-acb1-a211151fc7fc",
        "colab": {
          "base_uri": "https://localhost:8080/"
        }
      },
      "outputs": [
        {
          "output_type": "execute_result",
          "data": {
            "text/plain": [
              "1240"
            ]
          },
          "metadata": {},
          "execution_count": 23
        }
      ],
      "source": [
        "# Showing the number of unique values of listing ids\n",
        "# This can be helpful to diagnose duplicity\n",
        "listings_df[\"price_float\"].nunique()"
      ]
    },
    {
      "cell_type": "code",
      "source": [
        "# find the maximun value\n",
        "listings_df[\"price_float\"].max()"
      ],
      "metadata": {
        "id": "9_C2LqYc7ANG",
        "outputId": "6fa7adfc-03c6-42a4-b4ed-894161f2785b",
        "colab": {
          "base_uri": "https://localhost:8080/"
        }
      },
      "id": "9_C2LqYc7ANG",
      "execution_count": 58,
      "outputs": [
        {
          "output_type": "execute_result",
          "data": {
            "text/plain": [
              "90120.0"
            ]
          },
          "metadata": {},
          "execution_count": 58
        }
      ]
    },
    {
      "cell_type": "code",
      "source": [
        "# find the minimun value different to 0\n",
        "listings_df[\"price_float\"].where(listings_df[\"price_float\"] != 0).min()"
      ],
      "metadata": {
        "id": "r24RZxWN7PGp",
        "outputId": "f5a2b749-133d-4d9f-9303-92d34b3a4f09",
        "colab": {
          "base_uri": "https://localhost:8080/"
        }
      },
      "id": "r24RZxWN7PGp",
      "execution_count": 61,
      "outputs": [
        {
          "output_type": "execute_result",
          "data": {
            "text/plain": [
              "10.0"
            ]
          },
          "metadata": {},
          "execution_count": 61
        }
      ]
    },
    {
      "cell_type": "code",
      "execution_count": 27,
      "id": "31768fab-c8d6-46e1-bca2-58b43d2f7a8f",
      "metadata": {
        "id": "31768fab-c8d6-46e1-bca2-58b43d2f7a8f",
        "outputId": "8483eb8a-f050-4e84-c580-bbc2d834a29d",
        "colab": {
          "base_uri": "https://localhost:8080/"
        }
      },
      "outputs": [
        {
          "output_type": "execute_result",
          "data": {
            "text/plain": [
              "150.0     0.026879\n",
              "100.0     0.023642\n",
              "200.0     0.021301\n",
              "80.0      0.016458\n",
              "50.0      0.016412\n",
              "            ...   \n",
              "1390.0    0.000023\n",
              "927.0     0.000023\n",
              "602.0     0.000023\n",
              "1423.0    0.000023\n",
              "997.0     0.000023\n",
              "Name: price_float, Length: 1240, dtype: float64"
            ]
          },
          "metadata": {},
          "execution_count": 27
        }
      ],
      "source": [
        "# Calculating the relative frecuency of room types\n",
        "listings_df[\"price_float\"].value_counts(dropna=False, normalize=True) # You can set normalize to False for calculating the absolute frecuency"
      ]
    },
    {
      "cell_type": "code",
      "source": [
        "# Provides important statistical values to keep in mind\n",
        "listings_df[\"price_float\"].describe(percentiles=[0.05, 0.25, 0.5, 0.75, 0.95])"
      ],
      "metadata": {
        "id": "vX_0dnilCwyV",
        "outputId": "8ebc8927-9828-4106-a9a7-ff7ee767e1e4",
        "colab": {
          "base_uri": "https://localhost:8080/"
        }
      },
      "id": "vX_0dnilCwyV",
      "execution_count": 97,
      "outputs": [
        {
          "output_type": "execute_result",
          "data": {
            "text/plain": [
              "count    43566.000000\n",
              "mean       225.216109\n",
              "std        818.738268\n",
              "min          0.000000\n",
              "5%          42.000000\n",
              "25%         80.000000\n",
              "50%        136.000000\n",
              "75%        228.000000\n",
              "95%        561.000000\n",
              "max      90120.000000\n",
              "Name: price_float, dtype: float64"
            ]
          },
          "metadata": {},
          "execution_count": 97
        }
      ]
    },
    {
      "cell_type": "code",
      "source": [
        "mediana = listings_df[\"price_float\"].median()\n",
        "print(mediana)"
      ],
      "metadata": {
        "id": "5rkgZKTqwk2y",
        "outputId": "9bf52587-3a51-4ec5-c832-5d9b1206f3c1",
        "colab": {
          "base_uri": "https://localhost:8080/"
        }
      },
      "id": "5rkgZKTqwk2y",
      "execution_count": 34,
      "outputs": [
        {
          "output_type": "stream",
          "name": "stdout",
          "text": [
            "136.0\n"
          ]
        }
      ]
    },
    {
      "cell_type": "code",
      "source": [
        "from scipy import stats\n",
        "moda = stats.mode(listings_df[\"price_float\"])\n",
        "print(moda)"
      ],
      "metadata": {
        "id": "C1oVrUq4wq-V",
        "outputId": "0fb2d43b-0656-4584-ed04-5024be12b056",
        "colab": {
          "base_uri": "https://localhost:8080/"
        }
      },
      "id": "C1oVrUq4wq-V",
      "execution_count": 38,
      "outputs": [
        {
          "output_type": "stream",
          "name": "stdout",
          "text": [
            "ModeResult(mode=array([150.]), count=array([1171]))\n"
          ]
        },
        {
          "output_type": "stream",
          "name": "stderr",
          "text": [
            "<ipython-input-38-9a2204cd0423>:2: FutureWarning: Unlike other reduction functions (e.g. `skew`, `kurtosis`), the default behavior of `mode` typically preserves the axis it acts along. In SciPy 1.11.0, this behavior will change: the default value of `keepdims` will become False, the `axis` over which the statistic is taken will be eliminated, and the value None will no longer be accepted. Set `keepdims` to True or False to avoid this warning.\n",
            "  moda = stats.mode(listings_df[\"price_float\"])\n"
          ]
        }
      ]
    },
    {
      "cell_type": "markdown",
      "id": "2c587eb0-50fd-4c28-8f78-404b30cdcf08",
      "metadata": {
        "id": "2c587eb0-50fd-4c28-8f78-404b30cdcf08"
      },
      "source": [
        "<span style=\"color: red;\">What does it means the value of 0 for this attribute?</span>"
      ]
    },
    {
      "cell_type": "markdown",
      "id": "475ab96f-e169-4998-ae2d-563123991e30",
      "metadata": {
        "id": "475ab96f-e169-4998-ae2d-563123991e30"
      },
      "source": [
        "<span style=\"color: red;\">This attribute has a extreme outlier making difficult a proper visualization?</span>"
      ]
    },
    {
      "cell_type": "code",
      "execution_count": 86,
      "id": "c0cd6073-7c39-4216-a807-e905a2bc7a88",
      "metadata": {
        "id": "c0cd6073-7c39-4216-a807-e905a2bc7a88"
      },
      "outputs": [],
      "source": [
        "# Let's make some calculations for determining an outlier threshold\n",
        "q1 = listings_df[\"price_float\"].quantile(0.25)\n",
        "q3 = listings_df[\"price_float\"].quantile(0.75)\n",
        "iqr = q3 - q1"
      ]
    },
    {
      "cell_type": "code",
      "execution_count": 96,
      "id": "687f2fcc-a10e-4324-b016-bba3ed48c4fb",
      "metadata": {
        "id": "687f2fcc-a10e-4324-b016-bba3ed48c4fb",
        "outputId": "205dd9f8-b3a9-4386-89ae-ce018045f0d7",
        "colab": {
          "base_uri": "https://localhost:8080/",
          "height": 453
        }
      },
      "outputs": [
        {
          "output_type": "execute_result",
          "data": {
            "text/plain": [
              "[]"
            ]
          },
          "metadata": {},
          "execution_count": 96
        },
        {
          "output_type": "display_data",
          "data": {
            "text/plain": [
              "<Figure size 2000x500 with 1 Axes>"
            ],
            "image/png": "[encoded data removed]"
          },
          "metadata": {}
        }
      ],
      "source": [
        "plt.figure(figsize=(20, 5))\n",
        "plt.hist(listings_df.loc[listings_df[\"price_float\"] <= (q3 + 1.5 * iqr)][\"price_float\"], bins=50)\n",
        "plt.title(\"Price distribution\")\n",
        "plt.plot()"
      ]
    },
    {
      "cell_type": "markdown",
      "source": [
        "\n",
        "Analysis univariate for Minimum_nights"
      ],
      "metadata": {
        "id": "sp4GSFlc0QRJ"
      },
      "id": "sp4GSFlc0QRJ"
    },
    {
      "cell_type": "code",
      "source": [
        "# Showing the number of unique values of listing Minimum_nights\n",
        "# This can be helpful to diagnose duplicity\n",
        "listings_df[\"minimum_nights\"].nunique()"
      ],
      "metadata": {
        "id": "MxuEDRDX0Z1d",
        "outputId": "bda19022-2a30-402b-921f-ee371553a8c3",
        "colab": {
          "base_uri": "https://localhost:8080/"
        }
      },
      "id": "MxuEDRDX0Z1d",
      "execution_count": 47,
      "outputs": [
        {
          "output_type": "execute_result",
          "data": {
            "text/plain": [
              "131"
            ]
          },
          "metadata": {},
          "execution_count": 47
        }
      ]
    },
    {
      "cell_type": "code",
      "source": [
        "# Showing unique values of Minimum_nights\n",
        "sorted(listings_df[\"minimum_nights\"].unique())"
      ],
      "metadata": {
        "id": "I_FbCFQV1Ktt",
        "outputId": "6e92d1c4-f1ce-44a3-aed8-50715c658407",
        "colab": {
          "base_uri": "https://localhost:8080/"
        }
      },
      "id": "I_FbCFQV1Ktt",
      "execution_count": 52,
      "outputs": [
        {
          "output_type": "execute_result",
          "data": {
            "text/plain": [
              "[1,\n",
              " 2,\n",
              " 3,\n",
              " 4,\n",
              " 5,\n",
              " 6,\n",
              " 7,\n",
              " 8,\n",
              " 9,\n",
              " 10,\n",
              " 11,\n",
              " 12,\n",
              " 13,\n",
              " 14,\n",
              " 15,\n",
              " 16,\n",
              " 17,\n",
              " 18,\n",
              " 19,\n",
              " 20,\n",
              " 21,\n",
              " 22,\n",
              " 23,\n",
              " 24,\n",
              " 25,\n",
              " 26,\n",
              " 27,\n",
              " 28,\n",
              " 29,\n",
              " 30,\n",
              " 31,\n",
              " 32,\n",
              " 33,\n",
              " 34,\n",
              " 35,\n",
              " 36,\n",
              " 38,\n",
              " 40,\n",
              " 41,\n",
              " 42,\n",
              " 43,\n",
              " 45,\n",
              " 47,\n",
              " 48,\n",
              " 49,\n",
              " 50,\n",
              " 52,\n",
              " 53,\n",
              " 55,\n",
              " 56,\n",
              " 58,\n",
              " 59,\n",
              " 60,\n",
              " 61,\n",
              " 62,\n",
              " 63,\n",
              " 64,\n",
              " 65,\n",
              " 68,\n",
              " 69,\n",
              " 70,\n",
              " 75,\n",
              " 76,\n",
              " 78,\n",
              " 80,\n",
              " 85,\n",
              " 89,\n",
              " 90,\n",
              " 91,\n",
              " 92,\n",
              " 93,\n",
              " 94,\n",
              " 95,\n",
              " 96,\n",
              " 98,\n",
              " 99,\n",
              " 100,\n",
              " 108,\n",
              " 110,\n",
              " 114,\n",
              " 119,\n",
              " 120,\n",
              " 130,\n",
              " 133,\n",
              " 140,\n",
              " 145,\n",
              " 150,\n",
              " 153,\n",
              " 155,\n",
              " 160,\n",
              " 169,\n",
              " 175,\n",
              " 180,\n",
              " 181,\n",
              " 182,\n",
              " 183,\n",
              " 184,\n",
              " 185,\n",
              " 186,\n",
              " 198,\n",
              " 200,\n",
              " 210,\n",
              " 222,\n",
              " 238,\n",
              " 240,\n",
              " 250,\n",
              " 259,\n",
              " 260,\n",
              " 265,\n",
              " 270,\n",
              " 273,\n",
              " 299,\n",
              " 300,\n",
              " 301,\n",
              " 304,\n",
              " 307,\n",
              " 310,\n",
              " 356,\n",
              " 360,\n",
              " 364,\n",
              " 365,\n",
              " 366,\n",
              " 367,\n",
              " 370,\n",
              " 400,\n",
              " 480,\n",
              " 500,\n",
              " 999,\n",
              " 1000,\n",
              " 1124,\n",
              " 1250]"
            ]
          },
          "metadata": {},
          "execution_count": 52
        }
      ]
    },
    {
      "cell_type": "code",
      "execution_count": null,
      "id": "00907541-9b1c-4830-a5a1-af76efee77a5",
      "metadata": {
        "id": "00907541-9b1c-4830-a5a1-af76efee77a5"
      },
      "outputs": [],
      "source": [
        "# Plotting bar charts for has availability and instant bookable\n",
        "fig, (ax1, ax2) = plt.subplots(1, 2, sharey=True, figsize=(20, 5))\n",
        "listings_df[\"has_availability\"].value_counts().plot(kind=\"bar\", ax=ax1, color=\"orange\")\n",
        "listings_df[\"instant_bookable\"].value_counts().sort_index(ascending=False).plot(kind=\"bar\", ax=ax2, color=\"green\")\n",
        "ax1.set_title(\"Has availability frecuency\")\n",
        "ax2.set_title(\"Instant bookable frecuency\")\n",
        "plt.show()"
      ]
    },
    {
      "cell_type": "code",
      "execution_count": null,
      "id": "ce4dd2d6-eda2-4c26-89d2-bba762a5c7be",
      "metadata": {
        "id": "ce4dd2d6-eda2-4c26-89d2-bba762a5c7be"
      },
      "outputs": [],
      "source": [
        "# Plotting a boxplot for number of reviews\n",
        "plt.figure(figsize=(20, 5))\n",
        "plt.boxplot(listings_df[\"number_of_reviews\"], showmeans=True, vert=False)\n",
        "plt.title(\"Number of reviews distribution\")\n",
        "plt.show()"
      ]
    },
    {
      "cell_type": "markdown",
      "id": "0fd7cbf9-44ba-49e6-9166-9de23e45ec2a",
      "metadata": {
        "id": "0fd7cbf9-44ba-49e6-9166-9de23e45ec2a"
      },
      "source": [
        "## 2. Bivariate analysis"
      ]
    },
    {
      "cell_type": "code",
      "execution_count": null,
      "id": "012035ff-0256-4309-a356-0b30f48a3f83",
      "metadata": {
        "id": "012035ff-0256-4309-a356-0b30f48a3f83"
      },
      "outputs": [],
      "source": [
        "# Plotting correlation heatmap among review scores\n",
        "plt.figure(figsize=(10, 8))\n",
        "sns.heatmap(\n",
        "    listings_df[[\"review_scores_rating\", \"review_scores_accuracy\", \"review_scores_cleanliness\", \"review_scores_checkin\", \"review_scores_communication\", \"review_scores_location\", \"review_scores_value\"]].corr(),\n",
        "    vmin=0.5, vmax=1,\n",
        "    cmap=\"Blues\"\n",
        ")\n",
        "plt.title(\"Correlation among review scores\")\n",
        "plt.show()"
      ]
    },
    {
      "cell_type": "code",
      "execution_count": null,
      "id": "6c18b3ff-477e-4377-84d5-bf24561bf5b0",
      "metadata": {
        "id": "6c18b3ff-477e-4377-84d5-bf24561bf5b0"
      },
      "outputs": [],
      "source": [
        "# For large datasets, some visualizations are innefective when trying to represent individual instances\n",
        "# A naive strategy is to use only a random sample to visualize\n",
        "listings_sample_df =  listings_df.loc[listings_df[\"price_float\"] <= (q3 + 1.5 * iqr)].sample(frac=0.1)\n",
        "listings_sample_df.shape"
      ]
    },
    {
      "cell_type": "code",
      "execution_count": null,
      "id": "8a0aa277-64e2-4514-a790-5ef33b08c60c",
      "metadata": {
        "id": "8a0aa277-64e2-4514-a790-5ef33b08c60c"
      },
      "outputs": [],
      "source": [
        "# Plotting the relationship between price and review score value\n",
        "plt.figure(figsize=(10, 8))\n",
        "sns.scatterplot(\n",
        "    x=listings_sample_df[\"price_float\"],\n",
        "    y=listings_sample_df[\"review_scores_value\"]\n",
        ")\n",
        "plt.title(\"Relationship between price and review score value\")\n",
        "plt.grid()\n",
        "plt.show()"
      ]
    },
    {
      "cell_type": "code",
      "execution_count": null,
      "id": "61cc79c7-320d-4440-8037-41e9199d63e1",
      "metadata": {
        "id": "61cc79c7-320d-4440-8037-41e9199d63e1"
      },
      "outputs": [],
      "source": [
        "# Anothe common strategy for working with datasets with high variability is filter the dataset by representative groups according to the context\n",
        "# In this sense, let's work only with the neighbourhoods with more listings (pareto analysis)\n",
        "neighbourhood_frec_cumsum = listings_df[\"neighbourhood_cleansed\"].value_counts(normalize=True).cumsum()"
      ]
    },
    {
      "cell_type": "code",
      "execution_count": null,
      "id": "378c7a38-340b-4d27-93dc-3543e968a3bf",
      "metadata": {
        "id": "378c7a38-340b-4d27-93dc-3543e968a3bf"
      },
      "outputs": [],
      "source": [
        "# Plotting pareto analysis for neighbourhood frecuency\n",
        "plt.figure(figsize=(20, 8))\n",
        "neighbourhood_frec_cumsum.plot(kind=\"bar\", color=\"steelblue\")\n",
        "plt.title(\"Pareto analysis for neighbourhood frecuency\")\n",
        "plt.grid(axis=\"y\")\n",
        "plt.show()"
      ]
    },
    {
      "cell_type": "code",
      "execution_count": null,
      "id": "33438d16-edd6-409e-b826-03f0fae9a365",
      "metadata": {
        "id": "33438d16-edd6-409e-b826-03f0fae9a365"
      },
      "outputs": [],
      "source": [
        "most_representative_neighbourhoods = neighbourhood_frec_cumsum.loc[neighbourhood_frec_cumsum < 0.8].index.tolist()\n",
        "most_representative_neighbourhoods"
      ]
    },
    {
      "cell_type": "code",
      "execution_count": null,
      "id": "b5a80f27-e24c-44f6-ab63-60d26a3e6f2e",
      "metadata": {
        "id": "b5a80f27-e24c-44f6-ab63-60d26a3e6f2e"
      },
      "outputs": [],
      "source": [
        "# Plotting price distribution by neighbourhood\n",
        "fig, ax = plt.subplots(1, 1, figsize=(20, 8))\n",
        "sns.kdeplot(\n",
        "    data=listings_df.loc[listings_df[\"price_float\"] <= (q3 + 1.5 * iqr)].loc[listings_df[\"neighbourhood_cleansed\"].isin(most_representative_neighbourhoods)],\n",
        "    x=\"price_float\",\n",
        "    hue=\"neighbourhood_cleansed\",\n",
        "    bw_adjust=.3,\n",
        "    ax=ax\n",
        ")\n",
        "for (neighbourhood, color) in zip(most_representative_neighbourhoods, [\"steelblue\", \"orange\", \"green\"]):\n",
        "    ax.axvline(listings_df.loc[listings_df[\"price_float\"] <= (q3 + 1.5 * iqr)].loc[listings_df[\"neighbourhood_cleansed\"] == neighbourhood, \"price_float\"].mean(), color=color, linestyle=\"dashed\", linewidth=2, ymax=0.2)\n",
        "plt.title(\"Price distribution by neighbourhood (with means)\")\n",
        "plt.show()"
      ]
    },
    {
      "cell_type": "code",
      "execution_count": null,
      "id": "9ce88223-27ef-4d3d-bd02-2402156c1eb6",
      "metadata": {
        "id": "9ce88223-27ef-4d3d-bd02-2402156c1eb6"
      },
      "outputs": [],
      "source": [
        "# Plotting number of reviews distribution by neighbourhood\n",
        "fig, ax = plt.subplots(1, 1, figsize=(20, 8))\n",
        "sns.kdeplot(\n",
        "    data=listings_df.loc[listings_df[\"price_float\"] <= (q3 + 1.5 * iqr)].loc[listings_df[\"neighbourhood_cleansed\"].isin(most_representative_neighbourhoods)],\n",
        "    x=\"number_of_reviews\",\n",
        "    hue=\"neighbourhood_cleansed\",\n",
        "    bw_adjust=.3,\n",
        "    ax=ax\n",
        ")\n",
        "for (neighbourhood, color) in zip(most_representative_neighbourhoods, [\"steelblue\", \"orange\", \"green\"]):\n",
        "    ax.axvline(listings_df.loc[listings_df[\"price_float\"] <= (q3 + 1.5 * iqr)].loc[listings_df[\"neighbourhood_cleansed\"] == neighbourhood, \"number_of_reviews\"].mean(), color=color, linestyle=\"dashed\", linewidth=2, ymax=0.2)\n",
        "plt.title(\"Price distribution by neighbourhood (with means)\")\n",
        "plt.xlim([0, 200])\n",
        "plt.show()"
      ]
    },
    {
      "cell_type": "code",
      "execution_count": null,
      "id": "450329bb-2b75-4f34-b704-637a632fba27",
      "metadata": {
        "id": "450329bb-2b75-4f34-b704-637a632fba27"
      },
      "outputs": [],
      "source": []
    }
  ],
  "metadata": {
    "kernelspec": {
      "display_name": "Python 3 (ipykernel)",
      "language": "python",
      "name": "python3"
    },
    "language_info": {
      "codemirror_mode": {
        "name": "ipython",
        "version": 3
      },
      "file_extension": ".py",
      "mimetype": "text/x-python",
      "name": "python",
      "nbconvert_exporter": "python",
      "pygments_lexer": "ipython3",
      "version": "3.9.12"
    },
    "colab": {
      "provenance": []
    }
  },
  "nbformat": 4,
  "nbformat_minor": 5
}