{
  "cells": [
    {
      "cell_type": "markdown",
      "id": "65642d56-c596-4f2b-9bb1-90e2c403b899",
      "metadata": {
        "id": "65642d56-c596-4f2b-9bb1-90e2c403b899"
      },
      "source": [
        "<a href=\"https://colab.research.google.com/github/datascience-uniandes/eda-tutorial/blob/master/airbnb/eda.ipynb\" target=\"_parent\"><img src=\"https://colab.research.google.com/assets/colab-badge.svg\" alt=\"Open In Colab\"/></a>"
      ]
    },
    {
      "cell_type": "markdown",
      "id": "5ed0788a-edef-4304-a544-c35aed7bb02c",
      "metadata": {
        "id": "5ed0788a-edef-4304-a544-c35aed7bb02c"
      },
      "source": [
        "# Exploratory Data Analysis (EDA)\n",
        "\n",
        "MINE-4101: Applied Data Science  \n",
        "Univerisdad de los Andes  \n",
        "  \n",
        "**Dataset:** AirBnb Listings - Mexico City, Distrito Federal, Mexico [[dataset](http://insideairbnb.com/get-the-data/) | [dictionary](https://docs.google.com/spreadsheets/d/1iWCNJcSutYqpULSQHlNyGInUvHg2BoUGoNRIGa6Szc4/edit?usp=sharing)]. This dataset comprises information about Airbnb property listings in Mexico City. It includes data points like neighborhood, property type, price per night, number of reviews, review scores, availability, amenities, and more.\n",
        "\n",
        "**Business Context:** Property Investment and Vacation Rental Strategy. Imagine you're a consultant for individuals or firms looking to invest in properties for Airbnb rentals. They want to identify the most lucrative neighborhoods, optimal pricing strategies, and understand the factors that contribute to positive reviews and frequent bookings.\n",
        "\n",
        "Last update: August, 2023"
      ]
    },
    {
      "cell_type": "code",
      "execution_count": 4,
      "id": "fa878881-66df-4d8e-b792-1d65470a8dc5",
      "metadata": {
        "id": "fa878881-66df-4d8e-b792-1d65470a8dc5"
      },
      "outputs": [],
      "source": [
        "import pandas as pd\n",
        "from datetime import datetime\n",
        "import matplotlib.pyplot as plt\n",
        "import seaborn as sns"
      ]
    },
    {
      "cell_type": "code",
      "execution_count": 5,
      "id": "934e72ec-a2c1-45ec-a6fc-a4acb80950d8",
      "metadata": {
        "id": "934e72ec-a2c1-45ec-a6fc-a4acb80950d8"
      },
      "outputs": [],
      "source": [
        "# Pandas configuration for extending the number of columns and rows to show\n",
        "pd.set_option(\"display.max_columns\", None)\n",
        "pd.set_option(\"display.max_rows\", 100)"
      ]
    },
    {
      "cell_type": "markdown",
      "id": "8877beda-27b4-4c17-9d6b-6328db41ac08",
      "metadata": {
        "id": "8877beda-27b4-4c17-9d6b-6328db41ac08"
      },
      "source": [
        "## 1. Loading the data"
      ]
    },
    {
      "cell_type": "code",
      "execution_count": 7,
      "id": "7840e83b-2f32-438f-a8d2-20ef259cf3ac",
      "metadata": {
        "id": "7840e83b-2f32-438f-a8d2-20ef259cf3ac"
      },
      "outputs": [],
      "source": [
        "# Loading the CSV file as dataframe\n",
        "listings_df = pd.read_csv(\"./data/listings.csv.gz\")"
      ]
    },
    {
      "cell_type": "code",
      "execution_count": 8,
      "id": "7fdc067c-1aff-4859-b40e-183cc292dfcd",
      "metadata": {
        "colab": {
          "base_uri": "https://localhost:8080/"
        },
        "id": "7fdc067c-1aff-4859-b40e-183cc292dfcd",
        "outputId": "0a22d451-abec-4fdf-c690-d40fad606d31"
      },
      "outputs": [
        {
          "output_type": "execute_result",
          "data": {
            "text/plain": [
              "(43566, 75)"
            ]
          },
          "metadata": {},
          "execution_count": 8
        }
      ],
      "source": [
        "# Showing dataframe dimensions\n",
        "listings_df.shape"
      ]
    },
    {
      "cell_type": "code",
      "execution_count": null,
      "id": "666da89f-03fa-434d-a366-7fc2e399a731",
      "metadata": {
        "id": "666da89f-03fa-434d-a366-7fc2e399a731"
      },
      "outputs": [],
      "source": [
        "# Showing column types\n",
        "listings_df.dtypes"
      ]
    },
    {
      "cell_type": "code",
      "execution_count": null,
      "id": "bd41edc2-6d04-4d10-a77d-2ed0f962b657",
      "metadata": {
        "id": "bd41edc2-6d04-4d10-a77d-2ed0f962b657"
      },
      "outputs": [],
      "source": [
        "#fifa_df.head() # Showing the first rows\n",
        "#fifa_df.tail() # Showing last first rows\n",
        "listings_df.sample(5) # Showing a sample of n rows"
      ]
    },
    {
      "cell_type": "markdown",
      "id": "8a48a9a6-7266-472f-be40-c820e199a029",
      "metadata": {
        "id": "8a48a9a6-7266-472f-be40-c820e199a029"
      },
      "source": [
        "## 2. Univariate analysis"
      ]
    },
    {
      "cell_type": "markdown",
      "source": [
        "Analysis univariate for price"
      ],
      "metadata": {
        "id": "bDGgSm0RzDRW"
      },
      "id": "bDGgSm0RzDRW"
    },
    {
      "cell_type": "code",
      "source": [
        "# We need to transform the price attribute from object to float\n",
        "listings_df[\"price_float\"] = listings_df[\"price\"].str.replace(\"[$,]\", \"\", regex=True).astype(float)"
      ],
      "metadata": {
        "id": "I0U7nB0WtU2u"
      },
      "id": "I0U7nB0WtU2u",
      "execution_count": 21,
      "outputs": []
    },
    {
      "cell_type": "code",
      "execution_count": 23,
      "id": "15a2aee6-4720-477f-96b5-da43cc930db5",
      "metadata": {
        "colab": {
          "base_uri": "https://localhost:8080/"
        },
        "id": "15a2aee6-4720-477f-96b5-da43cc930db5",
        "outputId": "37f34084-8ddf-4549-acb1-a211151fc7fc"
      },
      "outputs": [
        {
          "output_type": "execute_result",
          "data": {
            "text/plain": [
              "1240"
            ]
          },
          "metadata": {},
          "execution_count": 23
        }
      ],
      "source": [
        "# Showing the number of unique values of listing ids\n",
        "# This can be helpful to diagnose duplicity\n",
        "listings_df[\"price_float\"].nunique()"
      ]
    },
    {
      "cell_type": "code",
      "source": [
        "# find the maximun value\n",
        "listings_df[\"price_float\"].max()"
      ],
      "metadata": {
        "colab": {
          "base_uri": "https://localhost:8080/"
        },
        "id": "9_C2LqYc7ANG",
        "outputId": "6fa7adfc-03c6-42a4-b4ed-894161f2785b"
      },
      "id": "9_C2LqYc7ANG",
      "execution_count": 58,
      "outputs": [
        {
          "output_type": "execute_result",
          "data": {
            "text/plain": [
              "90120.0"
            ]
          },
          "metadata": {},
          "execution_count": 58
        }
      ]
    },
    {
      "cell_type": "code",
      "source": [
        "# find the minimun value different to 0\n",
        "listings_df[\"price_float\"].where(listings_df[\"price_float\"] != 0).min()"
      ],
      "metadata": {
        "colab": {
          "base_uri": "https://localhost:8080/"
        },
        "id": "r24RZxWN7PGp",
        "outputId": "f5a2b749-133d-4d9f-9303-92d34b3a4f09"
      },
      "id": "r24RZxWN7PGp",
      "execution_count": 61,
      "outputs": [
        {
          "output_type": "execute_result",
          "data": {
            "text/plain": [
              "10.0"
            ]
          },
          "metadata": {},
          "execution_count": 61
        }
      ]
    },
    {
      "cell_type": "code",
      "execution_count": 27,
      "id": "31768fab-c8d6-46e1-bca2-58b43d2f7a8f",
      "metadata": {
        "colab": {
          "base_uri": "https://localhost:8080/"
        },
        "id": "31768fab-c8d6-46e1-bca2-58b43d2f7a8f",
        "outputId": "8483eb8a-f050-4e84-c580-bbc2d834a29d"
      },
      "outputs": [
        {
          "output_type": "execute_result",
          "data": {
            "text/plain": [
              "150.0     0.026879\n",
              "100.0     0.023642\n",
              "200.0     0.021301\n",
              "80.0      0.016458\n",
              "50.0      0.016412\n",
              "            ...   \n",
              "1390.0    0.000023\n",
              "927.0     0.000023\n",
              "602.0     0.000023\n",
              "1423.0    0.000023\n",
              "997.0     0.000023\n",
              "Name: price_float, Length: 1240, dtype: float64"
            ]
          },
          "metadata": {},
          "execution_count": 27
        }
      ],
      "source": [
        "# Calculating the relative frecuency of room types\n",
        "listings_df[\"price_float\"].value_counts(dropna=False, normalize=True) # You can set normalize to False for calculating the absolute frecuency"
      ]
    },
    {
      "cell_type": "code",
      "source": [
        "# Provides important statistical values to keep in mind\n",
        "listings_df[\"price_float\"].describe(percentiles=[0.05, 0.25, 0.5, 0.75, 0.95])"
      ],
      "metadata": {
        "colab": {
          "base_uri": "https://localhost:8080/"
        },
        "id": "vX_0dnilCwyV",
        "outputId": "8ebc8927-9828-4106-a9a7-ff7ee767e1e4"
      },
      "id": "vX_0dnilCwyV",
      "execution_count": 97,
      "outputs": [
        {
          "output_type": "execute_result",
          "data": {
            "text/plain": [
              "count    43566.000000\n",
              "mean       225.216109\n",
              "std        818.738268\n",
              "min          0.000000\n",
              "5%          42.000000\n",
              "25%         80.000000\n",
              "50%        136.000000\n",
              "75%        228.000000\n",
              "95%        561.000000\n",
              "max      90120.000000\n",
              "Name: price_float, dtype: float64"
            ]
          },
          "metadata": {},
          "execution_count": 97
        }
      ]
    },
    {
      "cell_type": "code",
      "source": [
        "mediana = listings_df[\"price_float\"].median()\n",
        "print(mediana)"
      ],
      "metadata": {
        "colab": {
          "base_uri": "https://localhost:8080/"
        },
        "id": "5rkgZKTqwk2y",
        "outputId": "9bf52587-3a51-4ec5-c832-5d9b1206f3c1"
      },
      "id": "5rkgZKTqwk2y",
      "execution_count": 34,
      "outputs": [
        {
          "output_type": "stream",
          "name": "stdout",
          "text": [
            "136.0\n"
          ]
        }
      ]
    },
    {
      "cell_type": "code",
      "source": [
        "from scipy import stats\n",
        "moda = stats.mode(listings_df[\"price_float\"], keepdims=True)\n",
        "print(moda)"
      ],
      "metadata": {
        "colab": {
          "base_uri": "https://localhost:8080/"
        },
        "id": "C1oVrUq4wq-V",
        "outputId": "c4ff3520-2f5f-4924-b6cc-b787b888f39c"
      },
      "id": "C1oVrUq4wq-V",
      "execution_count": 98,
      "outputs": [
        {
          "output_type": "stream",
          "name": "stdout",
          "text": [
            "ModeResult(mode=array([150.]), count=array([1171]))\n"
          ]
        }
      ]
    },
    {
      "cell_type": "code",
      "execution_count": 86,
      "id": "c0cd6073-7c39-4216-a807-e905a2bc7a88",
      "metadata": {
        "id": "c0cd6073-7c39-4216-a807-e905a2bc7a88"
      },
      "outputs": [],
      "source": [
        "# Let's make some calculations for determining an outlier threshold\n",
        "q1 = listings_df[\"price_float\"].quantile(0.25)\n",
        "q3 = listings_df[\"price_float\"].quantile(0.75)\n",
        "iqr = q3 - q1"
      ]
    },
    {
      "cell_type": "code",
      "execution_count": 99,
      "id": "687f2fcc-a10e-4324-b016-bba3ed48c4fb",
      "metadata": {
        "colab": {
          "base_uri": "https://localhost:8080/",
          "height": 453
        },
        "id": "687f2fcc-a10e-4324-b016-bba3ed48c4fb",
        "outputId": "d67830a7-3824-42fe-82e3-13d2025f572f"
      },
      "outputs": [
        {
          "output_type": "execute_result",
          "data": {
            "text/plain": [
              "[]"
            ]
          },
          "metadata": {},
          "execution_count": 99
        },
        {
          "output_type": "display_data",
          "data": {
            "text/plain": [
              "<Figure size 2000x500 with 1 Axes>"
            ],
            "image/png": "[encoded data removed]"
          },
          "metadata": {}
        }
      ],
      "source": [
        "plt.figure(figsize=(20, 5))\n",
        "plt.hist(listings_df.loc[listings_df[\"price_float\"] <= (q3 + 1.5 * iqr)][\"price_float\"], bins=50)\n",
        "plt.title(\"Price distribution\")\n",
        "plt.plot()"
      ]
    },
    {
      "cell_type": "markdown",
      "source": [
        "Analysis univariate for Minimum_nights"
      ],
      "metadata": {
        "id": "sp4GSFlc0QRJ"
      },
      "id": "sp4GSFlc0QRJ"
    },
    {
      "cell_type": "code",
      "source": [
        "# Showing the number of unique values of listing Minimum_nights\n",
        "# This can be helpful to diagnose duplicity\n",
        "listings_df[\"minimum_nights\"].nunique()"
      ],
      "metadata": {
        "colab": {
          "base_uri": "https://localhost:8080/"
        },
        "id": "MxuEDRDX0Z1d",
        "outputId": "bda19022-2a30-402b-921f-ee371553a8c3"
      },
      "id": "MxuEDRDX0Z1d",
      "execution_count": 47,
      "outputs": [
        {
          "output_type": "execute_result",
          "data": {
            "text/plain": [
              "131"
            ]
          },
          "metadata": {},
          "execution_count": 47
        }
      ]
    },
    {
      "cell_type": "code",
      "source": [
        "# Showing the number of unique values of listing minimum_nights\n",
        "# This can be helpful to diagnose duplicity\n",
        "listings_df[\"minimum_nights\"].unique()"
      ],
      "metadata": {
        "colab": {
          "base_uri": "https://localhost:8080/"
        },
        "id": "Aq_KUfyL9OzV",
        "outputId": "28817259-dc54-470f-b102-ba729dd937e8"
      },
      "id": "Aq_KUfyL9OzV",
      "execution_count": 102,
      "outputs": [
        {
          "output_type": "execute_result",
          "data": {
            "text/plain": [
              "array([  30,    5,   21,    7,   31,    2,   90,    3,    1,  200,    4,\n",
              "         60,   10,   28,   14,   15,    6,  120,   40,   48,   45,   29,\n",
              "        180,  181,  365,   85,   18,  150,   12,    9,   20,    8,   89,\n",
              "         50,  370,  100,   55,   27,   80,   58,   26,  265,  300,  185,\n",
              "         56,  260,  240,   25,   19,  250,   42, 1124,  360,  270,   59,\n",
              "        210,   70, 1250,   23,  198,  500,   13,  480,   22,   99,  186,\n",
              "        119,   35,   68,  366,   32,   16,  183,   93,   69,  364,   91,\n",
              "         75,   33,  299,  400,   24,   52,  108,   41,   98,  133,  222,\n",
              "        130,  184,  153,  999,   62,   53,  160,  169,  114,  155,   43,\n",
              "         96,  145,  182,   76, 1000,  304,   38,   17,  307,   36,  110,\n",
              "        273,  238,  175,   11,   92,  259,   63,  140,   64,   94,   65,\n",
              "        356,  310,   61,  301,   78,   49,   47,  367,   34,   95])"
            ]
          },
          "metadata": {},
          "execution_count": 102
        }
      ]
    },
    {
      "cell_type": "code",
      "source": [
        "# find the maximun value\n",
        "listings_df[\"minimum_nights\"].max()"
      ],
      "metadata": {
        "colab": {
          "base_uri": "https://localhost:8080/"
        },
        "id": "OJtki3oG-3Gq",
        "outputId": "06c9dbf4-adbc-4883-c429-82d7c4dd87b9"
      },
      "id": "OJtki3oG-3Gq",
      "execution_count": 104,
      "outputs": [
        {
          "output_type": "execute_result",
          "data": {
            "text/plain": [
              "1250"
            ]
          },
          "metadata": {},
          "execution_count": 104
        }
      ]
    },
    {
      "cell_type": "code",
      "source": [
        "# find the minimun value different to 0\n",
        "listings_df[\"minimum_nights\"].where(listings_df[\"minimum_nights\"] != 0).min()"
      ],
      "metadata": {
        "colab": {
          "base_uri": "https://localhost:8080/"
        },
        "id": "iR8dbyaE-8nT",
        "outputId": "edf424d5-79f4-4d30-cb64-62cf3a31a29f"
      },
      "id": "iR8dbyaE-8nT",
      "execution_count": 106,
      "outputs": [
        {
          "output_type": "execute_result",
          "data": {
            "text/plain": [
              "1"
            ]
          },
          "metadata": {},
          "execution_count": 106
        }
      ]
    },
    {
      "cell_type": "code",
      "source": [
        "# Calculating the relative frecuency of room types\n",
        "listings_df[\"minimum_nights\"].value_counts(dropna=False, normalize=True) # You can set normalize to False for calculating the absolute frecuency"
      ],
      "metadata": {
        "colab": {
          "base_uri": "https://localhost:8080/"
        },
        "id": "uzKT9eKo_DBK",
        "outputId": "8064ef7f-72f4-4b7b-f8b5-951aca6ec5be"
      },
      "id": "uzKT9eKo_DBK",
      "execution_count": 108,
      "outputs": [
        {
          "output_type": "execute_result",
          "data": {
            "text/plain": [
              "30     0.438346\n",
              "1      0.183124\n",
              "2      0.118074\n",
              "3      0.085984\n",
              "5      0.034775\n",
              "         ...   \n",
              "62     0.000023\n",
              "53     0.000023\n",
              "169    0.000023\n",
              "114    0.000023\n",
              "95     0.000023\n",
              "Name: minimum_nights, Length: 131, dtype: float64"
            ]
          },
          "metadata": {},
          "execution_count": 108
        }
      ]
    },
    {
      "cell_type": "code",
      "source": [
        "# Provides important statistical values to keep in mind\n",
        "listings_df[\"minimum_nights\"].describe(percentiles=[0.05, 0.25, 0.5, 0.75, 0.95])"
      ],
      "metadata": {
        "colab": {
          "base_uri": "https://localhost:8080/"
        },
        "id": "sWkHItNJ_gVQ",
        "outputId": "3bf9f4ad-69a3-4f44-b9ed-055bd3626b48"
      },
      "id": "sWkHItNJ_gVQ",
      "execution_count": 109,
      "outputs": [
        {
          "output_type": "execute_result",
          "data": {
            "text/plain": [
              "count    43566.000000\n",
              "mean        18.700271\n",
              "std         27.804388\n",
              "min          1.000000\n",
              "5%           1.000000\n",
              "25%          2.000000\n",
              "50%         15.000000\n",
              "75%         30.000000\n",
              "95%         30.000000\n",
              "max       1250.000000\n",
              "Name: minimum_nights, dtype: float64"
            ]
          },
          "metadata": {},
          "execution_count": 109
        }
      ]
    },
    {
      "cell_type": "code",
      "source": [
        "mediana = listings_df[\"minimum_nights\"].median()\n",
        "print(mediana)"
      ],
      "metadata": {
        "colab": {
          "base_uri": "https://localhost:8080/"
        },
        "id": "fQyOlS2L_uCJ",
        "outputId": "542ad19d-f866-41ca-ee5f-11000d797e3d"
      },
      "id": "fQyOlS2L_uCJ",
      "execution_count": 111,
      "outputs": [
        {
          "output_type": "stream",
          "name": "stdout",
          "text": [
            "15.0\n"
          ]
        }
      ]
    },
    {
      "cell_type": "code",
      "source": [
        "# Find the mod\n",
        "from scipy import stats\n",
        "moda = stats.mode(listings_df[\"minimum_nights\"], keepdims=True)\n",
        "print(moda)"
      ],
      "metadata": {
        "colab": {
          "base_uri": "https://localhost:8080/"
        },
        "id": "ncIUMXeR_xEo",
        "outputId": "4862641e-c54d-4f69-8fdf-b6d408e31ceb"
      },
      "id": "ncIUMXeR_xEo",
      "execution_count": 113,
      "outputs": [
        {
          "output_type": "stream",
          "name": "stdout",
          "text": [
            "ModeResult(mode=array([30]), count=array([19097]))\n"
          ]
        }
      ]
    },
    {
      "cell_type": "code",
      "source": [
        "# Let's make some calculations for determining an outlier threshold\n",
        "q1 = listings_df[\"minimum_nights\"].quantile(0.25)\n",
        "q3 = listings_df[\"minimum_nights\"].quantile(0.75)\n",
        "iqr = q3 - q1"
      ],
      "metadata": {
        "id": "jZlUTpMWAakb"
      },
      "id": "jZlUTpMWAakb",
      "execution_count": 119,
      "outputs": []
    },
    {
      "cell_type": "code",
      "source": [
        "plt.figure(figsize=(20, 5))\n",
        "hist_values, hist_edges, _ = plt.hist(listings_df.loc[listings_df[\"minimum_nights\"] <= (q3 + 1.5 * iqr)][\"minimum_nights\"], bins=50, color='red')\n",
        "plt.title(\"Minimum Nights distribution\")\n",
        "plt.grid(True)\n",
        "\n",
        "# Add values to the bars\n",
        "for i in range(len(hist_values)):\n",
        "    plt.text(hist_edges[i], hist_values[i] + 5, str(int(hist_values[i])), ha='center', va='bottom', fontsize=10)\n",
        "\n",
        "plt.show()"
      ],
      "metadata": {
        "colab": {
          "base_uri": "https://localhost:8080/",
          "height": 433
        },
        "id": "97f-yuSnAfmQ",
        "outputId": "288ff0de-61f7-406c-feee-daa2779092cd"
      },
      "id": "97f-yuSnAfmQ",
      "execution_count": 126,
      "outputs": [
        {
          "output_type": "display_data",
          "data": {
            "text/plain": [
              "<Figure size 2000x500 with 1 Axes>"
            ],
            "image/png": "[encoded data removed]"
          },
          "metadata": {}
        }
      ]
    },
    {
      "cell_type": "markdown",
      "source": [
        "Analysis univariate for Neighbourhood"
      ],
      "metadata": {
        "id": "22dKgDvWCQJ3"
      },
      "id": "22dKgDvWCQJ3"
    },
    {
      "cell_type": "code",
      "source": [
        "# Showing the number of unique values of listing Neighbourhood\n",
        "# This can be helpful to diagnose duplicity\n",
        "listings_df[\"neighbourhood\"].nunique()"
      ],
      "metadata": {
        "colab": {
          "base_uri": "https://localhost:8080/"
        },
        "id": "JVHM_yZfILIz",
        "outputId": "464d9d83-2226-498e-c265-42324ab606eb"
      },
      "id": "JVHM_yZfILIz",
      "execution_count": 156,
      "outputs": [
        {
          "output_type": "execute_result",
          "data": {
            "text/plain": [
              "New York, United States                       10320\n",
              "Brooklyn, New York, United States              9210\n",
              "Queens, New York, United States                3690\n",
              "The Bronx, New York, United States              479\n",
              "Bronx, New York, United States                  459\n",
              "                                              ...  \n",
              "Forest hills, New York, United States             1\n",
              "New York, New York , United States                1\n",
              " Crown Heights,NY, New York, United States        1\n",
              "Corona , New York, United States                  1\n",
              "South ozone park, New York, United States         1\n",
              "Name: neighbourhood, Length: 184, dtype: int64"
            ]
          },
          "metadata": {},
          "execution_count": 156
        }
      ]
    },
    {
      "cell_type": "code",
      "source": [
        "# Showing the number of unique values of listing Neighbourhood\n",
        "# This can be helpful to diagnose duplicity\n",
        "listings_df[\"neighbourhood\"].unique()"
      ],
      "metadata": {
        "colab": {
          "base_uri": "https://localhost:8080/"
        },
        "id": "3THBQndYIsiW",
        "outputId": "788d33d1-650f-41f0-c33d-9beebb86c74d"
      },
      "id": "3THBQndYIsiW",
      "execution_count": 149,
      "outputs": [
        {
          "output_type": "execute_result",
          "data": {
            "text/plain": [
              "array(['New York, United States', nan,\n",
              "       'Brooklyn, New York, United States',\n",
              "       'Bronx, New York, United States',\n",
              "       'Queens, New York, United States',\n",
              "       'Long Island City, New York, United States',\n",
              "       'Astoria, New York, United States',\n",
              "       'Rockaway Beach, New York, United States',\n",
              "       'Staten Island, New York, United States',\n",
              "       'Riverdale , New York, United States',\n",
              "       'Briarwood, New York, United States',\n",
              "       'Elmhurst, New York, United States',\n",
              "       'Kips Bay, New York, United States',\n",
              "       'Flushing, New York, United States',\n",
              "       'The Bronx, New York, United States',\n",
              "       'Brooklyn , New York, United States',\n",
              "       'Sunnyside, New York, United States',\n",
              "       'Manhattan , New York, United States', 'United States',\n",
              "       'Long Island City , New York, United States',\n",
              "       'Staten Island , New York, United States',\n",
              "       'LONG ISLAND CITY, New York, United States',\n",
              "       'Astoria, Queens, New York, United States',\n",
              "       'Park Slope, Brooklyn, New York, United States',\n",
              "       'Woodhaven, New York, United States',\n",
              "       'Astoria , New York, United States',\n",
              "       'Middle Village, New York, United States',\n",
              "       'Harlem, New York, United States',\n",
              "       'bronx, New York, United States',\n",
              "       'Jackson Heights, New York, United States',\n",
              "       'Woodside, New York, United States',\n",
              "       'Long Island city, New York, United States',\n",
              "       'Greenpoint, Brooklyn, New York, United States',\n",
              "       'Jamaica, New York, United States',\n",
              "       'BROOKLYN, New York, United States',\n",
              "       'ASTORIA, New York, United States',\n",
              "       'Ridgewood , New York, United States',\n",
              "       'astoria, New York, United States',\n",
              "       'Ridgewood, New York, United States',\n",
              "       'Bayside, New York, United States',\n",
              "       'Jackson heights , New York, United States',\n",
              "       'Williamsburg, Brooklyn, New York, United States',\n",
              "       'East Elmhurst, New York, United States',\n",
              "       'Williamsburg, New York, United States',\n",
              "       'Brooklyn. , New York, United States',\n",
              "       ' Bushwick,Brooklyn, New York, United States',\n",
              "       'LIC, New York, United States',\n",
              "       'Manhattan, New York, United States',\n",
              "       'New-York, New York, United States',\n",
              "       'Richmond Hill, New York, United States',\n",
              "       'forest hills/corona, New York, United States',\n",
              "       'Flushing , New York, United States',\n",
              "       'Staten Island  , New York, United States',\n",
              "       'Brooklyn, Northern Mariana Islands, United States',\n",
              "       'brooklyn, New York, United States',\n",
              "       'queens, New York, United States',\n",
              "       'Flushing /Kew Gardens Hills, New York, United States',\n",
              "       'RIVERDALE, New York, United States',\n",
              "       'New york, New York, United States',\n",
              "       'East elmhurst, New York, United States',\n",
              "       'Maspeth, New York, United States',\n",
              "       'Floral Park, New York, United States',\n",
              "       'Fresh Meadows , New York, United States',\n",
              "       'new york, New York, United States',\n",
              "       'Richmond hill, New York, United States',\n",
              "       'Jackson heights, New York, United States',\n",
              "       'New York city, New York, United States',\n",
              "       'Queens Village, New York, United States',\n",
              "       'flushing, New York, United States',\n",
              "       'Corona, New York, United States',\n",
              "       'Gravesend Brooklyn , New York, United States',\n",
              "       'Queens , New York, United States', 'NY, New York, United States',\n",
              "       'MIDDLE VILLAGE, New York, United States',\n",
              "       'Bushwick, New York, United States',\n",
              "       'Bronx , New York, United States',\n",
              "       'Arverne, New York, United States',\n",
              "       'Fresh meadows, New York, United States',\n",
              "       'New York , New York, United States',\n",
              "       'Kew Gardens , New York, United States',\n",
              "       'Rockaway Beach , New York, United States',\n",
              "       'Jackson Heights , New York, United States',\n",
              "       'Manhattan NY, New York, United States',\n",
              "       'Corona , New York, United States',\n",
              "       'Jamaica , New York, United States',\n",
              "       ' Crown Heights,NY, New York, United States',\n",
              "       'New York, New York , United States',\n",
              "       'New York, US, New York, United States',\n",
              "       'Forest hills, New York, United States',\n",
              "       'Woodside , New York, United States',\n",
              "       'Jamaica , ny, United States',\n",
              "       'ozone park queens , New York, United States',\n",
              "       'Bushwick , New York, United States',\n",
              "       'Cambria heights , New York, United States',\n",
              "       '8425 Elmhurst avenue , New York, United States',\n",
              "       'Rego Park, New York, United States',\n",
              "       'Springfield Gardens , New York, United States',\n",
              "       'Bronx, NY, New York, United States',\n",
              "       'Elmhurst , New York, United States',\n",
              "       '纽约, New York, United States', 'Hollis, New York, United States',\n",
              "       'Springfield Gardens, New York, United States',\n",
              "       'Ozone Park, New York, United States',\n",
              "       'Richmond Hill , New York, United States',\n",
              "       'Brookly , New York, United States',\n",
              "       'elmhurst Queens, New York, United States',\n",
              "       'East elmhurst , New York, United States',\n",
              "       '纽约市, New York, United States',\n",
              "       'Whitestone, New York, United States',\n",
              "       'South Richmond Hill, New York, United States',\n",
              "       'Park Slope, United States', 'Pomona, California, United States',\n",
              "       'Woodhaven , New York, United States',\n",
              "       'Williamsburg, Brooklyn , New York, United States',\n",
              "       'Astoria Queens , New York, United States',\n",
              "       'Bronx New York, New York, United States',\n",
              "       'St. Albans , New York, United States',\n",
              "       'New York City, New York, United States',\n",
              "       'Springfield gardens, New York, United States',\n",
              "       'Richmond Hill, Jamaica, Queens, New York, United States',\n",
              "       'west new york , New Jersey, United States',\n",
              "       'East Elmhurst , New York, United States',\n",
              "       'East Elmhurst or Flushing , New York, United States',\n",
              "       'Oakland Gardens , New York, United States',\n",
              "       'bronx , New York, United States',\n",
              "       'Flushing or east Elmhurst , New York, United States',\n",
              "       'Newyork, New York, United States',\n",
              "       'Long island city , New York, United States',\n",
              "       'Laurelton , New York, United States',\n",
              "       'Glendale , New York, United States',\n",
              "       'Bushwick Brooklyn , New York, United States',\n",
              "       'Brooklyn Heights , New York, United States',\n",
              "       'Rosedale , New York, United States',\n",
              "       'Sunnyside , New York, United States',\n",
              "       'Sunnyside, Queens, New York, United States',\n",
              "       'Brooklyn , United States', 'BROOKLYN , New York, United States',\n",
              "       'Saint Albans , New York, United States',\n",
              "       'Williamsburg , New York, United States',\n",
              "       'Saint Albans, New York, United States',\n",
              "       ' Astoria, New York, United States',\n",
              "       'Queens ,East Elmhurst ., New York, United States',\n",
              "       'Maspeth , New York, United States',\n",
              "       'College Point, New York, United States',\n",
              "       'New York,Manhattan , New York, United States',\n",
              "       'Howard Beach, New York, United States',\n",
              "       'Little neck, New York, United States',\n",
              "       'New York , Ny, United States',\n",
              "       'New York - Sunnyside , New York, United States',\n",
              "       'Glendale, New York, United States',\n",
              "       'Fresh Meadows, New York, United States',\n",
              "       'Rosedale, New York, United States',\n",
              "       'NYC , New York, United States',\n",
              "       'Kew Gardens, New York, United States',\n",
              "       'Jamaica queens, New York, United States',\n",
              "       'NEW YORK, New York, United States',\n",
              "       'Laurelton , Queens , New York, United States',\n",
              "       ' Springfield Gardens, New York, United States',\n",
              "       'Queens, Astoria , New York, United States',\n",
              "       'The Bronx (Riverdale), New York, United States',\n",
              "       'Bushwick Brooklyn, New York, United States',\n",
              "       'Laurelton, New York, United States',\n",
              "       'Queens village, New York, United States',\n",
              "       'Brooklyn , Ny, United States', 'Queens, New York , United States',\n",
              "       'Broklyn , New York, United States',\n",
              "       'Rego Park , New York, United States',\n",
              "       'North Bronx (Wakefield), New York, United States',\n",
              "       'Nueva York, New York, United States',\n",
              "       'South Ozone Park, New York, United States',\n",
              "       'woodside, New York, United States',\n",
              "       'Whitestone , New York, United States',\n",
              "       'Corona queens , New York, United States',\n",
              "       'Forest hills , New York, United States',\n",
              "       'South ozone park , New York, United States',\n",
              "       'Long Island city , New York, United States',\n",
              "       'Queens Village , New York, United States',\n",
              "       'New York, Ny, United States',\n",
              "       'South Harlem, New York, United States',\n",
              "       'Far rockaway, New York, United States',\n",
              "       'Flushing Queens, New York, United States',\n",
              "       'Jamaica Estates, New York, United States',\n",
              "       \"Queen's, New York, United States\",\n",
              "       'Valley Stream, New York, United States',\n",
              "       'South ozone park, New York, United States'], dtype=object)"
            ]
          },
          "metadata": {},
          "execution_count": 149
        }
      ]
    },
    {
      "cell_type": "code",
      "source": [
        "# Calculating the relative frecuency of room types\n",
        "listings_df[\"neighbourhood\"].value_counts(dropna=False, normalize=True) # You can set normalize to False for calculating the absolute frecuency"
      ],
      "metadata": {
        "colab": {
          "base_uri": "https://localhost:8080/"
        },
        "id": "zoTEgBJkJBj3",
        "outputId": "b5c6cff9-6ea5-48c9-d4ec-40791831689d"
      },
      "id": "zoTEgBJkJBj3",
      "execution_count": 153,
      "outputs": [
        {
          "output_type": "execute_result",
          "data": {
            "text/plain": [
              "NaN                                           0.421521\n",
              "New York, United States                       0.236882\n",
              "Brooklyn, New York, United States             0.211403\n",
              "Queens, New York, United States               0.084699\n",
              "The Bronx, New York, United States            0.010995\n",
              "                                                ...   \n",
              "Forest hills, New York, United States         0.000023\n",
              "New York, New York , United States            0.000023\n",
              " Crown Heights,NY, New York, United States    0.000023\n",
              "Corona , New York, United States              0.000023\n",
              "South ozone park, New York, United States     0.000023\n",
              "Name: neighbourhood, Length: 185, dtype: float64"
            ]
          },
          "metadata": {},
          "execution_count": 153
        }
      ]
    },
    {
      "cell_type": "code",
      "source": [
        "# Provides important statistical values to keep in mind\n",
        "listings_df[\"neighbourhood\"].describe()"
      ],
      "metadata": {
        "colab": {
          "base_uri": "https://localhost:8080/"
        },
        "id": "5Pajm4ZlJdmo",
        "outputId": "3d80fc10-c390-4693-d5f8-eeffcb6970fe"
      },
      "id": "5Pajm4ZlJdmo",
      "execution_count": 155,
      "outputs": [
        {
          "output_type": "execute_result",
          "data": {
            "text/plain": [
              "count                       25202\n",
              "unique                        184\n",
              "top       New York, United States\n",
              "freq                        10320\n",
              "Name: neighbourhood, dtype: object"
            ]
          },
          "metadata": {},
          "execution_count": 155
        }
      ]
    },
    {
      "cell_type": "code",
      "source": [
        "# Reemplazar \"New York, United States\" con una cadena vacía en la columna \"neighbourhood\"\n",
        "listings_df[\"neighbourhood\"] = listings_df[\"neighbourhood\"].str.replace(\"New York, United States\", \"\").str.strip()\n",
        "\n",
        "# Calcular la frecuencia de las categorías modificadas\n",
        "neighbourhood_frequencies = listings_df[\"neighbourhood\"].value_counts()\n",
        "\n",
        "# Tomar los primeros 50 valores de frecuencia\n",
        "neighbourhood_top50 = neighbourhood_frequencies.head(20)\n",
        "\n",
        "# Crear el gráfico de barras\n",
        "plt.figure(figsize=(10, 6))\n",
        "bars = plt.bar(neighbourhood_top50.index, neighbourhood_top50.values, color='blue')\n",
        "plt.bar(neighbourhood_top50.index, neighbourhood_top50.values, color='blue')\n",
        "plt.xlabel('Neighbourhood')\n",
        "plt.ylabel('Frequency')\n",
        "plt.title('Top 50 Neighbourhood Categories by Frequency (Without \"New York, United States\")')\n",
        "plt.xticks(rotation=90)\n",
        "plt.grid(True)\n",
        "\n",
        "# Agregar los valores a las barras\n",
        "for bar in bars:\n",
        "    yval = bar.get_height()\n",
        "    plt.text(bar.get_x() + bar.get_width()/2, yval, round(yval, 2), va='bottom', ha='center', fontsize=9)\n",
        "\n",
        "\n",
        "plt.tight_layout()\n",
        "plt.show()"
      ],
      "metadata": {
        "colab": {
          "base_uri": "https://localhost:8080/",
          "height": 607
        },
        "id": "bRLPSROnNXT5",
        "outputId": "964576da-68fc-418d-d532-b400e6fb6555"
      },
      "id": "bRLPSROnNXT5",
      "execution_count": 13,
      "outputs": [
        {
          "output_type": "display_data",
          "data": {
            "text/plain": [
              "<Figure size 1000x600 with 1 Axes>"
            ],
            "image/png": "[encoded data removed]"
          },
          "metadata": {}
        }
      ]
    },
    {
      "cell_type": "markdown",
      "source": [
        "Analysis univariate for Amenities"
      ],
      "metadata": {
        "id": "S7ZCHSfv7ubu"
      },
      "id": "S7ZCHSfv7ubu"
    },
    {
      "cell_type": "code",
      "source": [
        "# Showing the number of unique values of listing room_type\n",
        "# This can be helpful to diagnose duplicity\n",
        "listings_df[\"room_type\"].nunique()"
      ],
      "metadata": {
        "id": "haQQsJhy7t-R",
        "outputId": "e8df16b0-239c-4c12-a72e-8c0f88854a07",
        "colab": {
          "base_uri": "https://localhost:8080/"
        }
      },
      "id": "haQQsJhy7t-R",
      "execution_count": 24,
      "outputs": [
        {
          "output_type": "execute_result",
          "data": {
            "text/plain": [
              "4"
            ]
          },
          "metadata": {},
          "execution_count": 24
        }
      ]
    },
    {
      "cell_type": "code",
      "source": [
        "# Showing the number of unique values of listing room_type\n",
        "# This can be helpful to diagnose duplicity\n",
        "listings_df[\"room_type\"].unique()"
      ],
      "metadata": {
        "id": "9RbfZeSb9xuz",
        "outputId": "673f0972-7fd0-4ebc-9950-7c151abf8c5b",
        "colab": {
          "base_uri": "https://localhost:8080/"
        }
      },
      "id": "9RbfZeSb9xuz",
      "execution_count": 25,
      "outputs": [
        {
          "output_type": "execute_result",
          "data": {
            "text/plain": [
              "array(['Entire home/apt', 'Private room', 'Hotel room', 'Shared room'],\n",
              "      dtype=object)"
            ]
          },
          "metadata": {},
          "execution_count": 25
        }
      ]
    },
    {
      "cell_type": "code",
      "source": [
        "# Calculating the relative frecuency of room types\n",
        "listings_df[\"room_type\"].value_counts(dropna=False, normalize=True) # You can set normalize to False for calculating the absolute frecuency"
      ],
      "metadata": {
        "id": "g2wG2T6s97Uz",
        "outputId": "57dfe425-60dc-49af-c76b-57161d424d9a",
        "colab": {
          "base_uri": "https://localhost:8080/"
        }
      },
      "id": "g2wG2T6s97Uz",
      "execution_count": 26,
      "outputs": [
        {
          "output_type": "execute_result",
          "data": {
            "text/plain": [
              "Entire home/apt    0.565785\n",
              "Private room       0.417436\n",
              "Shared room        0.013313\n",
              "Hotel room         0.003466\n",
              "Name: room_type, dtype: float64"
            ]
          },
          "metadata": {},
          "execution_count": 26
        }
      ]
    },
    {
      "cell_type": "code",
      "source": [
        "# Provides important statistical values to keep in mind\n",
        "listings_df[\"room_type\"].describe()"
      ],
      "metadata": {
        "id": "VBf7xzo6-XyK",
        "outputId": "6f34bc63-679f-4da9-c41b-328c37f0c5d6",
        "colab": {
          "base_uri": "https://localhost:8080/"
        }
      },
      "id": "VBf7xzo6-XyK",
      "execution_count": 27,
      "outputs": [
        {
          "output_type": "execute_result",
          "data": {
            "text/plain": [
              "count               43566\n",
              "unique                  4\n",
              "top       Entire home/apt\n",
              "freq                24649\n",
              "Name: room_type, dtype: object"
            ]
          },
          "metadata": {},
          "execution_count": 27
        }
      ]
    },
    {
      "cell_type": "code",
      "source": [
        "# Calcular la frecuencia de las categorías modificadas\n",
        "room_type_frequencies = listings_df[\"room_type\"].value_counts()\n",
        "\n",
        "# Tomar los primeros 50 valores de frecuencia\n",
        "room_type_top50 = room_type_frequencies.head(20)\n",
        "\n",
        "# Crear el gráfico de barras\n",
        "plt.figure(figsize=(10, 6))\n",
        "bars = plt.bar(room_type_top50.index, room_type_top50.values, color='red')\n",
        "plt.bar(room_type_top50.index, room_type_top50.values, color='red')\n",
        "plt.xlabel('room_type')\n",
        "plt.ylabel('Frequency')\n",
        "plt.title('Top 50 room_type Categories by Frequency')\n",
        "plt.xticks(rotation=90)\n",
        "plt.grid(True)\n",
        "\n",
        "# Agregar los valores a las barras\n",
        "for bar in bars:\n",
        "    yval = bar.get_height()\n",
        "    plt.text(bar.get_x() + bar.get_width()/2, yval, round(yval, 2), va='bottom', ha='center', fontsize=9)\n",
        "\n",
        "\n",
        "plt.tight_layout()\n",
        "plt.show()"
      ],
      "metadata": {
        "id": "Rgxj1-UwAbtv",
        "outputId": "836c16cf-eb59-4961-e892-161936c34267",
        "colab": {
          "base_uri": "https://localhost:8080/",
          "height": 607
        }
      },
      "id": "Rgxj1-UwAbtv",
      "execution_count": 28,
      "outputs": [
        {
          "output_type": "display_data",
          "data": {
            "text/plain": [
              "<Figure size 1000x600 with 1 Axes>"
            ],
            "image/png": "[encoded data removed]"
          },
          "metadata": {}
        }
      ]
    },
    {
      "cell_type": "code",
      "source": [],
      "metadata": {
        "id": "qzlD_AOpEPqu"
      },
      "id": "qzlD_AOpEPqu",
      "execution_count": null,
      "outputs": []
    },
    {
      "cell_type": "markdown",
      "id": "0fd7cbf9-44ba-49e6-9166-9de23e45ec2a",
      "metadata": {
        "id": "0fd7cbf9-44ba-49e6-9166-9de23e45ec2a"
      },
      "source": [
        "## 2. Bivariate analysis"
      ]
    },
    {
      "cell_type": "code",
      "execution_count": null,
      "id": "012035ff-0256-4309-a356-0b30f48a3f83",
      "metadata": {
        "id": "012035ff-0256-4309-a356-0b30f48a3f83"
      },
      "outputs": [],
      "source": [
        "# Plotting correlation heatmap among review scores\n",
        "plt.figure(figsize=(10, 8))\n",
        "sns.heatmap(\n",
        "    listings_df[[\"review_scores_rating\", \"review_scores_accuracy\", \"review_scores_cleanliness\", \"review_scores_checkin\", \"review_scores_communication\", \"review_scores_location\", \"review_scores_value\"]].corr(),\n",
        "    vmin=0.5, vmax=1,\n",
        "    cmap=\"Blues\"\n",
        ")\n",
        "plt.title(\"Correlation among review scores\")\n",
        "plt.show()"
      ]
    },
    {
      "cell_type": "code",
      "execution_count": null,
      "id": "6c18b3ff-477e-4377-84d5-bf24561bf5b0",
      "metadata": {
        "id": "6c18b3ff-477e-4377-84d5-bf24561bf5b0"
      },
      "outputs": [],
      "source": [
        "# For large datasets, some visualizations are innefective when trying to represent individual instances\n",
        "# A naive strategy is to use only a random sample to visualize\n",
        "listings_sample_df =  listings_df.loc[listings_df[\"price_float\"] <= (q3 + 1.5 * iqr)].sample(frac=0.1)\n",
        "listings_sample_df.shape"
      ]
    },
    {
      "cell_type": "code",
      "execution_count": null,
      "id": "8a0aa277-64e2-4514-a790-5ef33b08c60c",
      "metadata": {
        "id": "8a0aa277-64e2-4514-a790-5ef33b08c60c"
      },
      "outputs": [],
      "source": [
        "# Plotting the relationship between price and review score value\n",
        "plt.figure(figsize=(10, 8))\n",
        "sns.scatterplot(\n",
        "    x=listings_sample_df[\"price_float\"],\n",
        "    y=listings_sample_df[\"review_scores_value\"]\n",
        ")\n",
        "plt.title(\"Relationship between price and review score value\")\n",
        "plt.grid()\n",
        "plt.show()"
      ]
    },
    {
      "cell_type": "code",
      "execution_count": null,
      "id": "61cc79c7-320d-4440-8037-41e9199d63e1",
      "metadata": {
        "id": "61cc79c7-320d-4440-8037-41e9199d63e1"
      },
      "outputs": [],
      "source": [
        "# Anothe common strategy for working with datasets with high variability is filter the dataset by representative groups according to the context\n",
        "# In this sense, let's work only with the neighbourhoods with more listings (pareto analysis)\n",
        "neighbourhood_frec_cumsum = listings_df[\"neighbourhood_cleansed\"].value_counts(normalize=True).cumsum()"
      ]
    },
    {
      "cell_type": "code",
      "execution_count": null,
      "id": "378c7a38-340b-4d27-93dc-3543e968a3bf",
      "metadata": {
        "id": "378c7a38-340b-4d27-93dc-3543e968a3bf"
      },
      "outputs": [],
      "source": [
        "# Plotting pareto analysis for neighbourhood frecuency\n",
        "plt.figure(figsize=(20, 8))\n",
        "neighbourhood_frec_cumsum.plot(kind=\"bar\", color=\"steelblue\")\n",
        "plt.title(\"Pareto analysis for neighbourhood frecuency\")\n",
        "plt.grid(axis=\"y\")\n",
        "plt.show()"
      ]
    },
    {
      "cell_type": "code",
      "execution_count": null,
      "id": "33438d16-edd6-409e-b826-03f0fae9a365",
      "metadata": {
        "id": "33438d16-edd6-409e-b826-03f0fae9a365"
      },
      "outputs": [],
      "source": [
        "most_representative_neighbourhoods = neighbourhood_frec_cumsum.loc[neighbourhood_frec_cumsum < 0.8].index.tolist()\n",
        "most_representative_neighbourhoods"
      ]
    },
    {
      "cell_type": "code",
      "execution_count": null,
      "id": "b5a80f27-e24c-44f6-ab63-60d26a3e6f2e",
      "metadata": {
        "id": "b5a80f27-e24c-44f6-ab63-60d26a3e6f2e"
      },
      "outputs": [],
      "source": [
        "# Plotting price distribution by neighbourhood\n",
        "fig, ax = plt.subplots(1, 1, figsize=(20, 8))\n",
        "sns.kdeplot(\n",
        "    data=listings_df.loc[listings_df[\"price_float\"] <= (q3 + 1.5 * iqr)].loc[listings_df[\"neighbourhood_cleansed\"].isin(most_representative_neighbourhoods)],\n",
        "    x=\"price_float\",\n",
        "    hue=\"neighbourhood_cleansed\",\n",
        "    bw_adjust=.3,\n",
        "    ax=ax\n",
        ")\n",
        "for (neighbourhood, color) in zip(most_representative_neighbourhoods, [\"steelblue\", \"orange\", \"green\"]):\n",
        "    ax.axvline(listings_df.loc[listings_df[\"price_float\"] <= (q3 + 1.5 * iqr)].loc[listings_df[\"neighbourhood_cleansed\"] == neighbourhood, \"price_float\"].mean(), color=color, linestyle=\"dashed\", linewidth=2, ymax=0.2)\n",
        "plt.title(\"Price distribution by neighbourhood (with means)\")\n",
        "plt.show()"
      ]
    },
    {
      "cell_type": "code",
      "execution_count": null,
      "id": "9ce88223-27ef-4d3d-bd02-2402156c1eb6",
      "metadata": {
        "id": "9ce88223-27ef-4d3d-bd02-2402156c1eb6"
      },
      "outputs": [],
      "source": [
        "# Plotting number of reviews distribution by neighbourhood\n",
        "fig, ax = plt.subplots(1, 1, figsize=(20, 8))\n",
        "sns.kdeplot(\n",
        "    data=listings_df.loc[listings_df[\"price_float\"] <= (q3 + 1.5 * iqr)].loc[listings_df[\"neighbourhood_cleansed\"].isin(most_representative_neighbourhoods)],\n",
        "    x=\"number_of_reviews\",\n",
        "    hue=\"neighbourhood_cleansed\",\n",
        "    bw_adjust=.3,\n",
        "    ax=ax\n",
        ")\n",
        "for (neighbourhood, color) in zip(most_representative_neighbourhoods, [\"steelblue\", \"orange\", \"green\"]):\n",
        "    ax.axvline(listings_df.loc[listings_df[\"price_float\"] <= (q3 + 1.5 * iqr)].loc[listings_df[\"neighbourhood_cleansed\"] == neighbourhood, \"number_of_reviews\"].mean(), color=color, linestyle=\"dashed\", linewidth=2, ymax=0.2)\n",
        "plt.title(\"Price distribution by neighbourhood (with means)\")\n",
        "plt.xlim([0, 200])\n",
        "plt.show()"
      ]
    },
    {
      "cell_type": "code",
      "execution_count": null,
      "id": "450329bb-2b75-4f34-b704-637a632fba27",
      "metadata": {
        "id": "450329bb-2b75-4f34-b704-637a632fba27"
      },
      "outputs": [],
      "source": []
    }
  ],
  "metadata": {
    "kernelspec": {
      "display_name": "Python 3 (ipykernel)",
      "language": "python",
      "name": "python3"
    },
    "language_info": {
      "codemirror_mode": {
        "name": "ipython",
        "version": 3
      },
      "file_extension": ".py",
      "mimetype": "text/x-python",
      "name": "python",
      "nbconvert_exporter": "python",
      "pygments_lexer": "ipython3",
      "version": "3.9.12"
    },
    "colab": {
      "provenance": []
    }
  },
  "nbformat": 4,
  "nbformat_minor": 5
}